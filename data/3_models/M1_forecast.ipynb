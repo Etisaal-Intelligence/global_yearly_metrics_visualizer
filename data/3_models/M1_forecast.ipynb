{
 "cells": [
  {
   "cell_type": "markdown",
   "id": "fa4d2883-f1ba-4d89-bf4e-ba0095078c09",
   "metadata": {
    "application/vnd.databricks.v1+cell": {
     "cellMetadata": {},
     "inputWidgets": {},
     "nuid": "867f699c-680f-4f59-aa22-70675ada2ebf",
     "showTitle": false,
     "title": ""
    },
    "tags": []
   },
   "source": [
    "# Foreacasting - Metric Per Entity"
   ]
  },
  {
   "cell_type": "markdown",
   "id": "fd44b017-1c83-49bb-84fd-f87b90780fc1",
   "metadata": {
    "application/vnd.databricks.v1+cell": {
     "cellMetadata": {},
     "inputWidgets": {},
     "nuid": "dba169ca-ec04-4c18-a7d6-e35f6feae429",
     "showTitle": false,
     "title": ""
    }
   },
   "source": [
    "#### Version 1.0"
   ]
  },
  {
   "cell_type": "markdown",
   "id": "d5feb734-ead0-4b62-9c89-1781a84d42aa",
   "metadata": {
    "application/vnd.databricks.v1+cell": {
     "cellMetadata": {},
     "inputWidgets": {},
     "nuid": "d344c2f5-c5af-4840-ad7f-1b01e2e0ac79",
     "showTitle": false,
     "title": ""
    }
   },
   "source": [
    "### TODO\n",
    "\n",
    "- Read aggreated data\n",
    "- Forecast 30 years for metric per entity"
   ]
  },
  {
   "cell_type": "markdown",
   "id": "f94dfca7-9786-4043-bc77-57f23c303537",
   "metadata": {
    "application/vnd.databricks.v1+cell": {
     "cellMetadata": {},
     "inputWidgets": {},
     "nuid": "0c8d1109-81a0-41bb-9d15-5ae34609cd38",
     "showTitle": false,
     "title": ""
    }
   },
   "source": [
    "### Observations"
   ]
  },
  {
   "cell_type": "markdown",
   "id": "d31501e9-5196-4c7a-ae78-77a3d81d4386",
   "metadata": {
    "application/vnd.databricks.v1+cell": {
     "cellMetadata": {},
     "inputWidgets": {},
     "nuid": "eba0c848-a65b-4360-97db-7a3bd18efa56",
     "showTitle": false,
     "title": ""
    }
   },
   "source": [
    "## Setup"
   ]
  },
  {
   "cell_type": "markdown",
   "id": "ef715615-d105-4d69-b5a0-61b3ac40d388",
   "metadata": {
    "application/vnd.databricks.v1+cell": {
     "cellMetadata": {},
     "inputWidgets": {},
     "nuid": "d69a86cf-f419-4097-8978-bb775018b5af",
     "showTitle": false,
     "title": ""
    }
   },
   "source": [
    "### Import Packages"
   ]
  },
  {
   "cell_type": "code",
   "execution_count": 9,
   "id": "5a5008e5-69f5-4292-a8b1-8972f9281e46",
   "metadata": {
    "application/vnd.databricks.v1+cell": {
     "cellMetadata": {},
     "inputWidgets": {},
     "nuid": "de5e6b67-6f12-4869-94d1-d458976bdb3c",
     "showTitle": false,
     "title": ""
    }
   },
   "outputs": [],
   "source": [
    "import scipy\n",
    "from datetime import datetime, date\n",
    "from pprint import pprint\n",
    "from collections import OrderedDict\n",
    "import os\n",
    "\n",
    "import numpy as np\n",
    "import pandas as pd\n",
    "\n",
    "import matplotlib.pyplot as plt\n",
    "# import seaborn as sns\n",
    "import plotly.express as px\n",
    "import plotly.graph_objects as go\n",
    "\n",
    "from prophet import Prophet\n",
    "\n",
    "# Set ipython's max row display\n",
    "# pd.set_option('display.max_row', 1000)\n",
    "# Set iPython's max column width\n",
    "pd.set_option('display.max_columns', 50)\n",
    "\n",
    "# sns.set_style(\"darkgrid\")\n",
    "plt.rcParams['figure.figsize'] = [20, 10]\n",
    "\n",
    "import warnings\n",
    "warnings.filterwarnings('ignore')\n",
    "import logging\n",
    "logger = logging.getLogger('cmdstanpy')\n",
    "logger.addHandler(logging.NullHandler())\n",
    "logger.propagate = False\n",
    "logger.setLevel(logging.CRITICAL)"
   ]
  },
  {
   "cell_type": "markdown",
   "id": "c0af8e21-be22-45d7-9a7c-de9d6acb5d49",
   "metadata": {},
   "source": [
    "### Functions"
   ]
  },
  {
   "cell_type": "code",
   "execution_count": 10,
   "id": "e90cef9e-9560-4d49-b8c0-054c29c1fd2a",
   "metadata": {},
   "outputs": [],
   "source": [
    "def masked_heatmap():\n",
    "    mask = np.zeros_like(corr)\n",
    "    mask[np.triu_indices_from(mask)] = True\n",
    "    fig,ax = plt.subplots()\n",
    "    sns.heatmap(corr,center = 0, fmt = \".3f\", square = True, annot= True, mask=mask)"
   ]
  },
  {
   "cell_type": "markdown",
   "id": "79a56286-2a11-44fa-8e29-585bceb45a37",
   "metadata": {
    "application/vnd.databricks.v1+cell": {
     "cellMetadata": {},
     "inputWidgets": {},
     "nuid": "e113a41e-3162-4a8e-93df-29453df9326a",
     "showTitle": false,
     "title": ""
    }
   },
   "source": [
    "## Global Variables"
   ]
  },
  {
   "cell_type": "markdown",
   "id": "70b1da82-6957-4049-aa88-0b9507e7a5d0",
   "metadata": {
    "application/vnd.databricks.v1+cell": {
     "cellMetadata": {},
     "inputWidgets": {},
     "nuid": "c65e3489-b431-4f1a-a33f-f0edda61c368",
     "showTitle": false,
     "title": ""
    }
   },
   "source": [
    "#### Dataset Parameters"
   ]
  },
  {
   "cell_type": "code",
   "execution_count": 11,
   "id": "0a2abf00-de3c-44b4-a486-39e8de99c313",
   "metadata": {
    "application/vnd.databricks.v1+cell": {
     "cellMetadata": {},
     "inputWidgets": {},
     "nuid": "921f4f7a-31b6-4bc8-8faf-75a7e19de71f",
     "showTitle": false,
     "title": ""
    }
   },
   "outputs": [],
   "source": [
    "file_name = '../data/silver_tables/yearly_values_per_entity.csv'\n",
    "\n",
    "year_range = [1960, 2022]\n",
    "entity_category = 'Country'\n",
    "\n",
    "forecast_horizon = 30"
   ]
  },
  {
   "cell_type": "code",
   "execution_count": 12,
   "id": "44566a84-9a58-4ae5-a26d-98fc841a5a10",
   "metadata": {},
   "outputs": [],
   "source": [
    "index_columns = [\n",
    "    'Entity',\n",
    "    'Code',\n",
    "    'Year',\n",
    "]\n",
    "forecase_columns = [\n",
    "    'Annual CO2 emissions',\n",
    "    #'Annual change in primary energy consumption (%)',\n",
    "    # 'Per capita electricity (kWh)',\n",
    "    'Fossil fuels per capita (kWh)',\n",
    "    # 'Fossil fuels (% equivalent primary energy)',\n",
    "    # 'Renewables per capita (kWh - equivalent)', 'Renewables (% electricity)',\n",
    "    # 'Solar Generation - TWh', 'prod of Electricity from solar (TWh)',\n",
    "]"
   ]
  },
  {
   "cell_type": "markdown",
   "id": "489ea90a-be10-43b8-86f5-cf39b28a5d29",
   "metadata": {
    "tags": []
   },
   "source": [
    "## Data Prep"
   ]
  },
  {
   "cell_type": "code",
   "execution_count": 13,
   "id": "e9cfa174-f602-4b66-acb0-e84c09be065e",
   "metadata": {},
   "outputs": [],
   "source": [
    "df_original = pd.read_csv(file_name)"
   ]
  },
  {
   "cell_type": "code",
   "execution_count": 14,
   "id": "6f7b2af3-aa1c-453b-9b38-37b8547bc206",
   "metadata": {},
   "outputs": [],
   "source": [
    "df_original = df_original.loc[\n",
    "    (df_original['Year'] > year_range[0])\n",
    "    & (df_original['Year'] < year_range[1])\n",
    "    & (df_original['Entity_Category'] == entity_category)\n",
    "][[*index_columns,*forecase_columns]]"
   ]
  },
  {
   "cell_type": "code",
   "execution_count": 15,
   "id": "9b497fa5-d339-4a83-ad5e-97b2a56b59f9",
   "metadata": {},
   "outputs": [
    {
     "data": {
      "text/html": [
       "<div>\n",
       "<style scoped>\n",
       "    .dataframe tbody tr th:only-of-type {\n",
       "        vertical-align: middle;\n",
       "    }\n",
       "\n",
       "    .dataframe tbody tr th {\n",
       "        vertical-align: top;\n",
       "    }\n",
       "\n",
       "    .dataframe thead th {\n",
       "        text-align: right;\n",
       "    }\n",
       "</style>\n",
       "<table border=\"1\" class=\"dataframe\">\n",
       "  <thead>\n",
       "    <tr style=\"text-align: right;\">\n",
       "      <th></th>\n",
       "      <th>Entity</th>\n",
       "      <th>Code</th>\n",
       "      <th>Year</th>\n",
       "      <th>Annual CO2 emissions</th>\n",
       "      <th>Fossil fuels per capita (kWh)</th>\n",
       "    </tr>\n",
       "  </thead>\n",
       "  <tbody>\n",
       "    <tr>\n",
       "      <th>34</th>\n",
       "      <td>Aruba</td>\n",
       "      <td>ABW</td>\n",
       "      <td>1961</td>\n",
       "      <td>645553.0</td>\n",
       "      <td>NaN</td>\n",
       "    </tr>\n",
       "    <tr>\n",
       "      <th>35</th>\n",
       "      <td>Aruba</td>\n",
       "      <td>ABW</td>\n",
       "      <td>1962</td>\n",
       "      <td>708942.0</td>\n",
       "      <td>NaN</td>\n",
       "    </tr>\n",
       "  </tbody>\n",
       "</table>\n",
       "</div>"
      ],
      "text/plain": [
       "   Entity Code  Year  Annual CO2 emissions  Fossil fuels per capita (kWh)\n",
       "34  Aruba  ABW  1961              645553.0                            NaN\n",
       "35  Aruba  ABW  1962              708942.0                            NaN"
      ]
     },
     "execution_count": 15,
     "metadata": {},
     "output_type": "execute_result"
    }
   ],
   "source": [
    "df_original.head(2)"
   ]
  },
  {
   "cell_type": "code",
   "execution_count": 16,
   "id": "c8eaa985-2f11-4c6e-9d0e-1f1764a31aa6",
   "metadata": {},
   "outputs": [],
   "source": [
    "df_original['Year'] = pd.to_datetime(df_original['Year'], format='%Y')"
   ]
  },
  {
   "cell_type": "markdown",
   "id": "e6b3200e-41da-4769-a13f-24e2ae3e4771",
   "metadata": {},
   "source": [
    "### Create Per Country Dataframes"
   ]
  },
  {
   "cell_type": "code",
   "execution_count": 17,
   "id": "05d24160-9f9c-4860-be58-4c62405467f3",
   "metadata": {},
   "outputs": [],
   "source": [
    "x = 'Year'\n",
    "y = 'Annual CO2 emissions'"
   ]
  },
  {
   "cell_type": "code",
   "execution_count": 18,
   "id": "8de0ec5f-18dc-4f9d-a6c7-0cc86f3f247b",
   "metadata": {},
   "outputs": [],
   "source": [
    "entity_dfs_dict = {}\n",
    "\n",
    "for entity in df_original['Entity'].unique():\n",
    "    entity_dfs_dict[entity] = df_original.loc[df_original['Entity'] == entity][[x, y]]\n",
    "    entity_dfs_dict[entity].columns = ['ds', 'y']"
   ]
  },
  {
   "cell_type": "code",
   "execution_count": 19,
   "id": "34599bf0-5a29-4ee2-808a-7a6f282df90b",
   "metadata": {},
   "outputs": [
    {
     "data": {
      "text/html": [
       "<div>\n",
       "<style scoped>\n",
       "    .dataframe tbody tr th:only-of-type {\n",
       "        vertical-align: middle;\n",
       "    }\n",
       "\n",
       "    .dataframe tbody tr th {\n",
       "        vertical-align: top;\n",
       "    }\n",
       "\n",
       "    .dataframe thead th {\n",
       "        text-align: right;\n",
       "    }\n",
       "</style>\n",
       "<table border=\"1\" class=\"dataframe\">\n",
       "  <thead>\n",
       "    <tr style=\"text-align: right;\">\n",
       "      <th></th>\n",
       "      <th>ds</th>\n",
       "      <th>y</th>\n",
       "    </tr>\n",
       "  </thead>\n",
       "  <tbody>\n",
       "    <tr>\n",
       "      <th>21818</th>\n",
       "      <td>1961-01-01</td>\n",
       "      <td>5061263.0</td>\n",
       "    </tr>\n",
       "    <tr>\n",
       "      <th>21819</th>\n",
       "      <td>1962-01-01</td>\n",
       "      <td>4888959.0</td>\n",
       "    </tr>\n",
       "    <tr>\n",
       "      <th>21820</th>\n",
       "      <td>1963-01-01</td>\n",
       "      <td>4700377.0</td>\n",
       "    </tr>\n",
       "    <tr>\n",
       "      <th>21821</th>\n",
       "      <td>1964-01-01</td>\n",
       "      <td>4469069.0</td>\n",
       "    </tr>\n",
       "    <tr>\n",
       "      <th>21822</th>\n",
       "      <td>1965-01-01</td>\n",
       "      <td>5209198.0</td>\n",
       "    </tr>\n",
       "  </tbody>\n",
       "</table>\n",
       "</div>"
      ],
      "text/plain": [
       "              ds          y\n",
       "21818 1961-01-01  5061263.0\n",
       "21819 1962-01-01  4888959.0\n",
       "21820 1963-01-01  4700377.0\n",
       "21821 1964-01-01  4469069.0\n",
       "21822 1965-01-01  5209198.0"
      ]
     },
     "execution_count": 19,
     "metadata": {},
     "output_type": "execute_result"
    }
   ],
   "source": [
    "entity_dfs_dict[entity].head()"
   ]
  },
  {
   "cell_type": "markdown",
   "id": "2014d3ac-6b8b-44d7-893b-5e08f1387eed",
   "metadata": {},
   "source": [
    "## Forecast Generation "
   ]
  },
  {
   "cell_type": "code",
   "execution_count": 20,
   "id": "5c8b36f9-e429-4dd4-a870-d48f08a12a1d",
   "metadata": {},
   "outputs": [],
   "source": [
    "def create_predict_df_for_entity(entity_name):\n",
    "    df = entity_dfs_dict[entity_name]\n",
    "    \n",
    "    m = Prophet(\n",
    "        yearly_seasonality='auto',\n",
    "        weekly_seasonality=False,\n",
    "        daily_seasonality=False,\n",
    "    )\n",
    "    m.fit(df)\n",
    "    \n",
    "    future = m.make_future_dataframe(periods=forecast_horizon, freq='Y')\n",
    "    forecast = m.predict(future)\n",
    "    \n",
    "    df = df.set_index('ds').join(forecast.set_index('ds')).reset_index()\n",
    "    df['Entity'] = entity_name\n",
    "    \n",
    "    return df"
   ]
  },
  {
   "cell_type": "code",
   "execution_count": 21,
   "id": "14cd8ad2-3680-4c56-a71d-28daa440867f",
   "metadata": {},
   "outputs": [],
   "source": [
    "def create_pred_df(entity_dfs_dict):\n",
    "    all_pred_df = pd.DataFrame()\n",
    "\n",
    "    try:\n",
    "        for entity_name in entity_dfs_dict:\n",
    "            print(f\"Forecasting for {entity_name} done\")\n",
    "            \n",
    "            try:\n",
    "                df = create_predict_df_for_entity(entity_name)    \n",
    "            except ValueError:\n",
    "                print(f'Not enough observations for entity {entity_name} for forecasting')\n",
    "                df = pd.DataFrame()\n",
    "\n",
    "            all_pred_df = pd.concat([all_pred_df, df])\n",
    "        return all_pred_df\n",
    "    \n",
    "    except KeyboardInterrupt:\n",
    "        return all_pred_df"
   ]
  },
  {
   "cell_type": "code",
   "execution_count": 22,
   "id": "c36cd77c-6ae7-42f4-97c3-f8f61d9db82e",
   "metadata": {},
   "outputs": [
    {
     "name": "stdout",
     "output_type": "stream",
     "text": [
      "Forecasting for Aruba done\n",
      "Forecasting for Afghanistan done\n",
      "Forecasting for Angola done\n",
      "Forecasting for Anguilla done\n",
      "Forecasting for Albania done\n",
      "Forecasting for Andorra done\n",
      "Forecasting for Netherlands Antilles done\n",
      "Not enough observations for forecasting\n",
      "Forecasting for United Arab Emirates done\n",
      "Forecasting for Argentina done\n",
      "Forecasting for Armenia done\n",
      "Forecasting for American Samoa done\n",
      "Not enough observations for forecasting\n",
      "Forecasting for Antigua And Barbuda done\n",
      "Forecasting for Australia done\n",
      "Forecasting for Austria done\n",
      "Forecasting for Azerbaijan done\n",
      "Forecasting for Burundi done\n",
      "Forecasting for Belgium done\n",
      "Forecasting for Benin done\n",
      "Forecasting for Bonaire Sint Eustatius And Saba done\n",
      "Forecasting for Burkina Faso done\n",
      "Forecasting for Bangladesh done\n",
      "Forecasting for Bulgaria done\n",
      "Forecasting for Bahrain done\n",
      "Forecasting for Bahamas done\n",
      "Forecasting for Bosnia And Herzegovina done\n",
      "Forecasting for Belarus done\n",
      "Forecasting for Belize done\n",
      "Forecasting for Bermuda done\n",
      "Forecasting for Bolivia done\n",
      "Forecasting for Brazil done\n",
      "Forecasting for Barbados done\n",
      "Forecasting for Brunei done\n",
      "Forecasting for Bhutan done\n",
      "Forecasting for Botswana done\n",
      "Forecasting for Central African Republic done\n",
      "Forecasting for Canada done\n",
      "Forecasting for Switzerland done\n",
      "Forecasting for Chile done\n",
      "Forecasting for China done\n",
      "Forecasting for Cote D'Ivoire done\n",
      "Forecasting for Cameroon done\n",
      "Forecasting for Democratic Republic Of Congo done\n",
      "Forecasting for Congo done\n",
      "Forecasting for Cook Islands done\n",
      "Forecasting for Colombia done\n",
      "Forecasting for Comoros done\n",
      "Forecasting for Cape Verde done\n",
      "Forecasting for Costa Rica done\n",
      "Forecasting for Cuba done\n",
      "Forecasting for Curacao done\n",
      "Forecasting for Christmas Island done\n",
      "Forecasting for Cayman Islands done\n",
      "Not enough observations for forecasting\n",
      "Forecasting for Cyprus done\n",
      "Forecasting for Czechia done\n",
      "Forecasting for Germany done\n",
      "Forecasting for Djibouti done\n",
      "Forecasting for Dominica done\n",
      "Forecasting for Denmark done\n",
      "Forecasting for Dominican Republic done\n",
      "Forecasting for Algeria done\n",
      "Forecasting for Ecuador done\n",
      "Forecasting for Egypt done\n",
      "Forecasting for Eritrea done\n",
      "Forecasting for Western Sahara done\n",
      "Not enough observations for forecasting\n",
      "Forecasting for Spain done\n",
      "Forecasting for Estonia done\n",
      "Forecasting for Ethiopia done\n",
      "Forecasting for Finland done\n",
      "Forecasting for Fiji done\n",
      "Forecasting for Falkland Islands done\n",
      "Not enough observations for forecasting\n",
      "Forecasting for France done\n",
      "Forecasting for Faeroe Islands done\n",
      "Forecasting for Micronesia (Country) done\n",
      "Forecasting for Gabon done\n",
      "Forecasting for United Kingdom done\n",
      "Forecasting for Georgia done\n",
      "Forecasting for Ghana done\n",
      "Forecasting for Gibraltar done\n",
      "Not enough observations for forecasting\n",
      "Forecasting for Guinea done\n",
      "Forecasting for Guadeloupe done\n",
      "Forecasting for Gambia done\n",
      "Forecasting for Guinea-Bissau done\n",
      "Forecasting for Equatorial Guinea done\n",
      "Forecasting for Greece done\n",
      "Forecasting for Grenada done\n",
      "Forecasting for Greenland done\n",
      "Forecasting for Guatemala done\n",
      "Forecasting for French Guiana done\n",
      "Forecasting for Guam done\n",
      "Not enough observations for forecasting\n",
      "Forecasting for Guyana done\n",
      "Forecasting for Hong Kong done\n",
      "Forecasting for Honduras done\n",
      "Forecasting for Croatia done\n",
      "Forecasting for Haiti done\n",
      "Forecasting for Hungary done\n",
      "Forecasting for Indonesia done\n",
      "Forecasting for India done\n",
      "Forecasting for Ireland done\n",
      "Forecasting for Iran done\n",
      "Forecasting for Iraq done\n",
      "Forecasting for Iceland done\n",
      "Forecasting for Israel done\n",
      "Forecasting for Italy done\n",
      "Forecasting for Jamaica done\n",
      "Forecasting for Jordan done\n",
      "Forecasting for Japan done\n",
      "Forecasting for Kazakhstan done\n",
      "Forecasting for Kenya done\n",
      "Forecasting for Kyrgyzstan done\n",
      "Forecasting for Cambodia done\n",
      "Forecasting for Kiribati done\n",
      "Forecasting for Saint Kitts And Nevis done\n",
      "Forecasting for South Korea done\n",
      "Forecasting for Kuwait done\n",
      "Forecasting for Laos done\n",
      "Forecasting for Lebanon done\n",
      "Forecasting for Liberia done\n",
      "Forecasting for Libya done\n",
      "Forecasting for Saint Lucia done\n",
      "Forecasting for Liechtenstein done\n",
      "Forecasting for Sri Lanka done\n",
      "Forecasting for Lesotho done\n",
      "Forecasting for Lithuania done\n",
      "Forecasting for Luxembourg done\n",
      "Forecasting for Latvia done\n",
      "Forecasting for Macao done\n",
      "Forecasting for Morocco done\n",
      "Forecasting for Moldova done\n",
      "Forecasting for Madagascar done\n",
      "Forecasting for Maldives done\n",
      "Forecasting for Mexico done\n",
      "Forecasting for Marshall Islands done\n",
      "Forecasting for North Macedonia done\n",
      "Forecasting for Mali done\n",
      "Forecasting for Malta done\n",
      "Forecasting for Myanmar done\n",
      "Forecasting for Montenegro done\n",
      "Forecasting for Mongolia done\n",
      "Forecasting for Mozambique done\n",
      "Forecasting for Mauritania done\n",
      "Forecasting for Montserrat done\n",
      "Forecasting for Martinique done\n",
      "Forecasting for Mauritius done\n",
      "Forecasting for Malawi done\n",
      "Forecasting for Malaysia done\n",
      "Forecasting for Mayotte done\n",
      "Forecasting for Namibia done\n",
      "Forecasting for New Caledonia done\n",
      "Forecasting for Niger done\n",
      "Forecasting for Nigeria done\n",
      "Forecasting for Nicaragua done\n",
      "Forecasting for Niue done\n",
      "Forecasting for Netherlands done\n",
      "Forecasting for Norway done\n",
      "Forecasting for Nepal done\n",
      "Forecasting for Nauru done\n",
      "Forecasting for New Zealand done\n",
      "Forecasting for Oman done\n",
      "Forecasting for Czechoslovakia done\n",
      "Not enough observations for forecasting\n",
      "Forecasting for Kosovo done\n",
      "Forecasting for Serbia And Montenegro done\n",
      "Not enough observations for forecasting\n",
      "Forecasting for Ussr done\n",
      "Not enough observations for forecasting\n",
      "Forecasting for Yugoslavia done\n",
      "Not enough observations for forecasting\n",
      "Forecasting for Pakistan done\n",
      "Forecasting for Panama done\n",
      "Forecasting for Peru done\n",
      "Forecasting for Philippines done\n",
      "Forecasting for Palau done\n",
      "Forecasting for Papua New Guinea done\n",
      "Forecasting for Poland done\n",
      "Forecasting for Puerto Rico done\n",
      "Not enough observations for forecasting\n",
      "Forecasting for North Korea done\n",
      "Forecasting for Portugal done\n",
      "Forecasting for Paraguay done\n",
      "Forecasting for Palestine done\n",
      "Forecasting for French Polynesia done\n",
      "Forecasting for Qatar done\n",
      "Forecasting for Reunion done\n",
      "Forecasting for Romania done\n",
      "Forecasting for Russia done\n",
      "Forecasting for Rwanda done\n",
      "Forecasting for Saudi Arabia done\n",
      "Forecasting for Sudan done\n",
      "Forecasting for Senegal done\n",
      "Forecasting for Singapore done\n",
      "Forecasting for Saint Helena done\n",
      "Forecasting for Solomon Islands done\n",
      "Forecasting for Sierra Leone done\n",
      "Forecasting for El Salvador done\n",
      "Forecasting for Somalia done\n",
      "Forecasting for Saint Pierre And Miquelon done\n",
      "Forecasting for Serbia done\n",
      "Forecasting for South Sudan done\n",
      "Forecasting for Sao Tome And Principe done\n",
      "Forecasting for Suriname done\n",
      "Forecasting for Slovakia done\n",
      "Forecasting for Slovenia done\n",
      "Forecasting for Sweden done\n",
      "Forecasting for Eswatini done\n",
      "Forecasting for Sint Maarten (Dutch Part) done\n",
      "Forecasting for Seychelles done\n",
      "Forecasting for Syria done\n",
      "Forecasting for Turks And Caicos Islands done\n",
      "Forecasting for Chad done\n",
      "Forecasting for Togo done\n",
      "Forecasting for Thailand done\n",
      "Forecasting for Tajikistan done\n",
      "Forecasting for Turkmenistan done\n",
      "Forecasting for Timor done\n",
      "Forecasting for Tonga done\n",
      "Forecasting for Trinidad And Tobago done\n",
      "Forecasting for Tunisia done\n",
      "Forecasting for Turkey done\n",
      "Forecasting for Tuvalu done\n",
      "Forecasting for Taiwan done\n",
      "Forecasting for Tanzania done\n",
      "Forecasting for Uganda done\n",
      "Forecasting for Ukraine done\n",
      "Forecasting for Uruguay done\n",
      "Forecasting for United States done\n",
      "Forecasting for Uzbekistan done\n",
      "Forecasting for Saint Vincent And The Grenadines done\n",
      "Forecasting for Venezuela done\n",
      "Forecasting for British Virgin Islands done\n",
      "Forecasting for United States Virgin Islands done\n",
      "Not enough observations for forecasting\n",
      "Forecasting for Vietnam done\n",
      "Forecasting for Vanuatu done\n",
      "Forecasting for Wallis And Futuna done\n",
      "Forecasting for Samoa done\n",
      "Forecasting for Yemen done\n",
      "Forecasting for South Africa done\n",
      "Forecasting for Zambia done\n",
      "Forecasting for Zimbabwe done\n"
     ]
    }
   ],
   "source": [
    "all_entities_pred_df = create_pred_df(entity_dfs_dict)"
   ]
  },
  {
   "cell_type": "markdown",
   "id": "785ee354-10c4-45b8-81d4-0bca436f20fa",
   "metadata": {},
   "source": [
    "## Save Tables"
   ]
  },
  {
   "cell_type": "code",
   "execution_count": 23,
   "id": "9256b96e-3511-4584-b717-023004f60be1",
   "metadata": {},
   "outputs": [
    {
     "data": {
      "text/html": [
       "<div>\n",
       "<style scoped>\n",
       "    .dataframe tbody tr th:only-of-type {\n",
       "        vertical-align: middle;\n",
       "    }\n",
       "\n",
       "    .dataframe tbody tr th {\n",
       "        vertical-align: top;\n",
       "    }\n",
       "\n",
       "    .dataframe thead th {\n",
       "        text-align: right;\n",
       "    }\n",
       "</style>\n",
       "<table border=\"1\" class=\"dataframe\">\n",
       "  <thead>\n",
       "    <tr style=\"text-align: right;\">\n",
       "      <th></th>\n",
       "      <th>ds</th>\n",
       "      <th>y</th>\n",
       "      <th>trend</th>\n",
       "      <th>yhat_lower</th>\n",
       "      <th>yhat_upper</th>\n",
       "      <th>trend_lower</th>\n",
       "      <th>trend_upper</th>\n",
       "      <th>additive_terms</th>\n",
       "      <th>additive_terms_lower</th>\n",
       "      <th>additive_terms_upper</th>\n",
       "      <th>yearly</th>\n",
       "      <th>yearly_lower</th>\n",
       "      <th>yearly_upper</th>\n",
       "      <th>multiplicative_terms</th>\n",
       "      <th>multiplicative_terms_lower</th>\n",
       "      <th>multiplicative_terms_upper</th>\n",
       "      <th>yhat</th>\n",
       "      <th>Entity</th>\n",
       "    </tr>\n",
       "  </thead>\n",
       "  <tbody>\n",
       "    <tr>\n",
       "      <th>0</th>\n",
       "      <td>1961-01-01</td>\n",
       "      <td>645553.0</td>\n",
       "      <td>348571.965280</td>\n",
       "      <td>-410566.903827</td>\n",
       "      <td>1.336181e+06</td>\n",
       "      <td>348571.965280</td>\n",
       "      <td>348571.965280</td>\n",
       "      <td>116000.995604</td>\n",
       "      <td>116000.995604</td>\n",
       "      <td>116000.995604</td>\n",
       "      <td>116000.995604</td>\n",
       "      <td>116000.995604</td>\n",
       "      <td>116000.995604</td>\n",
       "      <td>0.0</td>\n",
       "      <td>0.0</td>\n",
       "      <td>0.0</td>\n",
       "      <td>464572.960884</td>\n",
       "      <td>Aruba</td>\n",
       "    </tr>\n",
       "    <tr>\n",
       "      <th>1</th>\n",
       "      <td>1962-01-01</td>\n",
       "      <td>708942.0</td>\n",
       "      <td>370306.270320</td>\n",
       "      <td>-383487.773904</td>\n",
       "      <td>1.341374e+06</td>\n",
       "      <td>370306.270320</td>\n",
       "      <td>370306.270320</td>\n",
       "      <td>99154.731984</td>\n",
       "      <td>99154.731984</td>\n",
       "      <td>99154.731984</td>\n",
       "      <td>99154.731984</td>\n",
       "      <td>99154.731984</td>\n",
       "      <td>99154.731984</td>\n",
       "      <td>0.0</td>\n",
       "      <td>0.0</td>\n",
       "      <td>0.0</td>\n",
       "      <td>469461.002304</td>\n",
       "      <td>Aruba</td>\n",
       "    </tr>\n",
       "    <tr>\n",
       "      <th>2</th>\n",
       "      <td>1963-01-01</td>\n",
       "      <td>679088.0</td>\n",
       "      <td>392040.575359</td>\n",
       "      <td>-300708.331478</td>\n",
       "      <td>1.316585e+06</td>\n",
       "      <td>392040.575359</td>\n",
       "      <td>392040.575359</td>\n",
       "      <td>89222.225921</td>\n",
       "      <td>89222.225921</td>\n",
       "      <td>89222.225921</td>\n",
       "      <td>89222.225921</td>\n",
       "      <td>89222.225921</td>\n",
       "      <td>89222.225921</td>\n",
       "      <td>0.0</td>\n",
       "      <td>0.0</td>\n",
       "      <td>0.0</td>\n",
       "      <td>481262.801281</td>\n",
       "      <td>Aruba</td>\n",
       "    </tr>\n",
       "    <tr>\n",
       "      <th>3</th>\n",
       "      <td>1964-01-01</td>\n",
       "      <td>660275.0</td>\n",
       "      <td>413774.880414</td>\n",
       "      <td>-381631.424981</td>\n",
       "      <td>1.405229e+06</td>\n",
       "      <td>413774.880414</td>\n",
       "      <td>413774.880414</td>\n",
       "      <td>86215.622238</td>\n",
       "      <td>86215.622238</td>\n",
       "      <td>86215.622238</td>\n",
       "      <td>86215.622238</td>\n",
       "      <td>86215.622238</td>\n",
       "      <td>86215.622238</td>\n",
       "      <td>0.0</td>\n",
       "      <td>0.0</td>\n",
       "      <td>0.0</td>\n",
       "      <td>499990.502652</td>\n",
       "      <td>Aruba</td>\n",
       "    </tr>\n",
       "    <tr>\n",
       "      <th>4</th>\n",
       "      <td>1965-01-01</td>\n",
       "      <td>592387.0</td>\n",
       "      <td>435568.731510</td>\n",
       "      <td>-256463.054285</td>\n",
       "      <td>1.410202e+06</td>\n",
       "      <td>435568.731510</td>\n",
       "      <td>435568.731510</td>\n",
       "      <td>116000.995604</td>\n",
       "      <td>116000.995604</td>\n",
       "      <td>116000.995604</td>\n",
       "      <td>116000.995604</td>\n",
       "      <td>116000.995604</td>\n",
       "      <td>116000.995604</td>\n",
       "      <td>0.0</td>\n",
       "      <td>0.0</td>\n",
       "      <td>0.0</td>\n",
       "      <td>551569.727113</td>\n",
       "      <td>Aruba</td>\n",
       "    </tr>\n",
       "  </tbody>\n",
       "</table>\n",
       "</div>"
      ],
      "text/plain": [
       "          ds         y          trend     yhat_lower    yhat_upper  \\\n",
       "0 1961-01-01  645553.0  348571.965280 -410566.903827  1.336181e+06   \n",
       "1 1962-01-01  708942.0  370306.270320 -383487.773904  1.341374e+06   \n",
       "2 1963-01-01  679088.0  392040.575359 -300708.331478  1.316585e+06   \n",
       "3 1964-01-01  660275.0  413774.880414 -381631.424981  1.405229e+06   \n",
       "4 1965-01-01  592387.0  435568.731510 -256463.054285  1.410202e+06   \n",
       "\n",
       "     trend_lower    trend_upper  additive_terms  additive_terms_lower  \\\n",
       "0  348571.965280  348571.965280   116000.995604         116000.995604   \n",
       "1  370306.270320  370306.270320    99154.731984          99154.731984   \n",
       "2  392040.575359  392040.575359    89222.225921          89222.225921   \n",
       "3  413774.880414  413774.880414    86215.622238          86215.622238   \n",
       "4  435568.731510  435568.731510   116000.995604         116000.995604   \n",
       "\n",
       "   additive_terms_upper         yearly   yearly_lower   yearly_upper  \\\n",
       "0         116000.995604  116000.995604  116000.995604  116000.995604   \n",
       "1          99154.731984   99154.731984   99154.731984   99154.731984   \n",
       "2          89222.225921   89222.225921   89222.225921   89222.225921   \n",
       "3          86215.622238   86215.622238   86215.622238   86215.622238   \n",
       "4         116000.995604  116000.995604  116000.995604  116000.995604   \n",
       "\n",
       "   multiplicative_terms  multiplicative_terms_lower  \\\n",
       "0                   0.0                         0.0   \n",
       "1                   0.0                         0.0   \n",
       "2                   0.0                         0.0   \n",
       "3                   0.0                         0.0   \n",
       "4                   0.0                         0.0   \n",
       "\n",
       "   multiplicative_terms_upper           yhat Entity  \n",
       "0                         0.0  464572.960884  Aruba  \n",
       "1                         0.0  469461.002304  Aruba  \n",
       "2                         0.0  481262.801281  Aruba  \n",
       "3                         0.0  499990.502652  Aruba  \n",
       "4                         0.0  551569.727113  Aruba  "
      ]
     },
     "execution_count": 23,
     "metadata": {},
     "output_type": "execute_result"
    }
   ],
   "source": [
    "all_entities_pred_df.head()"
   ]
  },
  {
   "cell_type": "code",
   "execution_count": 24,
   "id": "1d3969ab-a688-4a40-a7a0-5aaabb9fc335",
   "metadata": {},
   "outputs": [
    {
     "data": {
      "text/plain": [
       "Chad                 61\n",
       "Romania              61\n",
       "Israel               61\n",
       "Singapore            61\n",
       "Norway               61\n",
       "                     ..\n",
       "Eritrea              27\n",
       "Kosovo               21\n",
       "Wallis And Futuna    20\n",
       "Timor                19\n",
       "Christmas Island     14\n",
       "Name: Entity, Length: 220, dtype: int64"
      ]
     },
     "execution_count": 24,
     "metadata": {},
     "output_type": "execute_result"
    }
   ],
   "source": [
    "all_entities_pred_df['Entity'].value_counts()"
   ]
  },
  {
   "cell_type": "code",
   "execution_count": 28,
   "id": "2bcba0a9-4127-4c26-9dec-4743d4b97b0d",
   "metadata": {},
   "outputs": [],
   "source": [
    "all_entities_pred_df.to_csv('../data/forecasts_tables/all_entities_forecasts.csv', index=False)"
   ]
  },
  {
   "cell_type": "code",
   "execution_count": null,
   "id": "5cd2170f-8991-4e4e-b931-372868467567",
   "metadata": {},
   "outputs": [],
   "source": []
  }
 ],
 "metadata": {
  "kernelspec": {
   "display_name": "Python 3 (ipykernel)",
   "language": "python",
   "name": "python3"
  },
  "language_info": {
   "codemirror_mode": {
    "name": "ipython",
    "version": 3
   },
   "file_extension": ".py",
   "mimetype": "text/x-python",
   "name": "python",
   "nbconvert_exporter": "python",
   "pygments_lexer": "ipython3",
   "version": "3.8.12"
  },
  "scenes_data": {
   "active_scene": "Default Scene",
   "init_scene": "",
   "scenes": [
    "Default Scene"
   ]
  },
  "vscode": {
   "interpreter": {
    "hash": "b59a5bc95ea837884ac6b30ff4c4e35df4c324dcfae3c61025a9a02fd547c221"
   }
  }
 },
 "nbformat": 4,
 "nbformat_minor": 5
}
