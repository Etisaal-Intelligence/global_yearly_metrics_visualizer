{
 "cells": [
  {
   "cell_type": "markdown",
   "id": "fa4d2883-f1ba-4d89-bf4e-ba0095078c09",
   "metadata": {
    "application/vnd.databricks.v1+cell": {
     "cellMetadata": {},
     "inputWidgets": {},
     "nuid": "867f699c-680f-4f59-aa22-70675ada2ebf",
     "showTitle": false,
     "title": ""
    },
    "tags": []
   },
   "source": [
    "# Foreacasting - Metric Per Entity"
   ]
  },
  {
   "cell_type": "markdown",
   "id": "fd44b017-1c83-49bb-84fd-f87b90780fc1",
   "metadata": {
    "application/vnd.databricks.v1+cell": {
     "cellMetadata": {},
     "inputWidgets": {},
     "nuid": "dba169ca-ec04-4c18-a7d6-e35f6feae429",
     "showTitle": false,
     "title": ""
    }
   },
   "source": [
    "#### Version 1.0"
   ]
  },
  {
   "cell_type": "markdown",
   "id": "d5feb734-ead0-4b62-9c89-1781a84d42aa",
   "metadata": {
    "application/vnd.databricks.v1+cell": {
     "cellMetadata": {},
     "inputWidgets": {},
     "nuid": "d344c2f5-c5af-4840-ad7f-1b01e2e0ac79",
     "showTitle": false,
     "title": ""
    }
   },
   "source": [
    "### TODO\n",
    "\n",
    "- Read aggreated data\n",
    "- Forecast 30 years for metric per entity"
   ]
  },
  {
   "cell_type": "markdown",
   "id": "f94dfca7-9786-4043-bc77-57f23c303537",
   "metadata": {
    "application/vnd.databricks.v1+cell": {
     "cellMetadata": {},
     "inputWidgets": {},
     "nuid": "0c8d1109-81a0-41bb-9d15-5ae34609cd38",
     "showTitle": false,
     "title": ""
    }
   },
   "source": [
    "### Observations"
   ]
  },
  {
   "cell_type": "markdown",
   "id": "d31501e9-5196-4c7a-ae78-77a3d81d4386",
   "metadata": {
    "application/vnd.databricks.v1+cell": {
     "cellMetadata": {},
     "inputWidgets": {},
     "nuid": "eba0c848-a65b-4360-97db-7a3bd18efa56",
     "showTitle": false,
     "title": ""
    }
   },
   "source": [
    "## Setup"
   ]
  },
  {
   "cell_type": "markdown",
   "id": "ef715615-d105-4d69-b5a0-61b3ac40d388",
   "metadata": {
    "application/vnd.databricks.v1+cell": {
     "cellMetadata": {},
     "inputWidgets": {},
     "nuid": "d69a86cf-f419-4097-8978-bb775018b5af",
     "showTitle": false,
     "title": ""
    }
   },
   "source": [
    "### Import Packages"
   ]
  },
  {
   "cell_type": "code",
   "execution_count": 1,
   "id": "5a5008e5-69f5-4292-a8b1-8972f9281e46",
   "metadata": {
    "application/vnd.databricks.v1+cell": {
     "cellMetadata": {},
     "inputWidgets": {},
     "nuid": "de5e6b67-6f12-4869-94d1-d458976bdb3c",
     "showTitle": false,
     "title": ""
    }
   },
   "outputs": [
    {
     "name": "stderr",
     "output_type": "stream",
     "text": [
      "C:\\Users\\abdul\\Anaconda3\\envs\\ds1\\lib\\site-packages\\tqdm\\auto.py:22: TqdmWarning: IProgress not found. Please update jupyter and ipywidgets. See https://ipywidgets.readthedocs.io/en/stable/user_install.html\n",
      "  from .autonotebook import tqdm as notebook_tqdm\n"
     ]
    }
   ],
   "source": [
    "from datetime import datetime, date\n",
    "from pprint import pprint\n",
    "from collections import OrderedDict\n",
    "import os\n",
    "\n",
    "import numpy as np\n",
    "import pandas as pd\n",
    "\n",
    "import matplotlib.pyplot as plt\n",
    "# import seaborn as sns\n",
    "import plotly.express as px\n",
    "import plotly.graph_objects as go\n",
    "\n",
    "from prophet import Prophet\n",
    "\n",
    "# Set ipython's max row display\n",
    "# pd.set_option('display.max_row', 1000)\n",
    "# Set iPython's max column width\n",
    "pd.set_option('display.max_columns', 50)\n",
    "\n",
    "# sns.set_style(\"darkgrid\")\n",
    "plt.rcParams['figure.figsize'] = [20, 10]\n",
    "\n",
    "import warnings\n",
    "warnings.filterwarnings('ignore')\n",
    "import logging\n",
    "logger = logging.getLogger('cmdstanpy')\n",
    "logger.addHandler(logging.NullHandler())\n",
    "logger.propagate = False\n",
    "logger.setLevel(logging.CRITICAL)"
   ]
  },
  {
   "cell_type": "markdown",
   "id": "c0af8e21-be22-45d7-9a7c-de9d6acb5d49",
   "metadata": {},
   "source": [
    "### Functions"
   ]
  },
  {
   "cell_type": "code",
   "execution_count": 2,
   "id": "e90cef9e-9560-4d49-b8c0-054c29c1fd2a",
   "metadata": {},
   "outputs": [],
   "source": [
    "def masked_heatmap():\n",
    "    mask = np.zeros_like(corr)\n",
    "    mask[np.triu_indices_from(mask)] = True\n",
    "    fig,ax = plt.subplots()\n",
    "    sns.heatmap(corr,center = 0, fmt = \".3f\", square = True, annot= True, mask=mask)"
   ]
  },
  {
   "cell_type": "markdown",
   "id": "79a56286-2a11-44fa-8e29-585bceb45a37",
   "metadata": {
    "application/vnd.databricks.v1+cell": {
     "cellMetadata": {},
     "inputWidgets": {},
     "nuid": "e113a41e-3162-4a8e-93df-29453df9326a",
     "showTitle": false,
     "title": ""
    }
   },
   "source": [
    "## Global Variables"
   ]
  },
  {
   "cell_type": "markdown",
   "id": "70b1da82-6957-4049-aa88-0b9507e7a5d0",
   "metadata": {
    "application/vnd.databricks.v1+cell": {
     "cellMetadata": {},
     "inputWidgets": {},
     "nuid": "c65e3489-b431-4f1a-a33f-f0edda61c368",
     "showTitle": false,
     "title": ""
    }
   },
   "source": [
    "#### Dataset Parameters"
   ]
  },
  {
   "cell_type": "code",
   "execution_count": 3,
   "id": "0a2abf00-de3c-44b4-a486-39e8de99c313",
   "metadata": {
    "application/vnd.databricks.v1+cell": {
     "cellMetadata": {},
     "inputWidgets": {},
     "nuid": "921f4f7a-31b6-4bc8-8faf-75a7e19de71f",
     "showTitle": false,
     "title": ""
    }
   },
   "outputs": [],
   "source": [
    "file_name = '../data/silver_tables/yearly_values_per_entity.csv'\n",
    "\n",
    "year_range = [1960, 2022]\n",
    "entity_category = 'Country'\n",
    "\n",
    "forecast_horizon = 30"
   ]
  },
  {
   "cell_type": "code",
   "execution_count": 4,
   "id": "44566a84-9a58-4ae5-a26d-98fc841a5a10",
   "metadata": {},
   "outputs": [],
   "source": [
    "index_columns = [\n",
    "    'Entity',\n",
    "    'Code',\n",
    "    'Year',\n",
    "    'Entity_Category'\n",
    "]\n",
    "forecase_columns = [\n",
    "    'Annual CO2 emissions',\n",
    "    #'Annual change in primary energy consumption (%)',\n",
    "    # 'Per capita electricity (kWh)',\n",
    "    'Fossil fuels per capita (kWh)',\n",
    "    # 'Fossil fuels (% equivalent primary energy)',\n",
    "    # 'Renewables per capita (kWh - equivalent)', 'Renewables (% electricity)',\n",
    "    # 'Solar Generation - TWh', 'prod of Electricity from solar (TWh)',\n",
    "]"
   ]
  },
  {
   "cell_type": "markdown",
   "id": "489ea90a-be10-43b8-86f5-cf39b28a5d29",
   "metadata": {
    "tags": []
   },
   "source": [
    "## Data Prep"
   ]
  },
  {
   "cell_type": "code",
   "execution_count": 5,
   "id": "e9cfa174-f602-4b66-acb0-e84c09be065e",
   "metadata": {},
   "outputs": [],
   "source": [
    "df_original = pd.read_csv(file_name)"
   ]
  },
  {
   "cell_type": "code",
   "execution_count": 6,
   "id": "6f7b2af3-aa1c-453b-9b38-37b8547bc206",
   "metadata": {},
   "outputs": [],
   "source": [
    "# df_original = df_original.loc[\n",
    "#     (df_original['Year'] > year_range[0])\n",
    "#     & (df_original['Year'] < year_range[1])\n",
    "#     & (df_original['Entity_Category'] == entity_category)\n",
    "# ][[*index_columns,*forecase_columns]]\n",
    "\n",
    "df_original = df_original.loc[\n",
    "    (df_original['Year'] > year_range[0])\n",
    "    & (df_original['Year'] < year_range[1])\n",
    "][[*index_columns,*forecase_columns]]"
   ]
  },
  {
   "cell_type": "code",
   "execution_count": 7,
   "id": "9b497fa5-d339-4a83-ad5e-97b2a56b59f9",
   "metadata": {},
   "outputs": [
    {
     "data": {
      "text/html": [
       "<div>\n",
       "<style scoped>\n",
       "    .dataframe tbody tr th:only-of-type {\n",
       "        vertical-align: middle;\n",
       "    }\n",
       "\n",
       "    .dataframe tbody tr th {\n",
       "        vertical-align: top;\n",
       "    }\n",
       "\n",
       "    .dataframe thead th {\n",
       "        text-align: right;\n",
       "    }\n",
       "</style>\n",
       "<table border=\"1\" class=\"dataframe\">\n",
       "  <thead>\n",
       "    <tr style=\"text-align: right;\">\n",
       "      <th></th>\n",
       "      <th>Entity</th>\n",
       "      <th>Code</th>\n",
       "      <th>Year</th>\n",
       "      <th>Entity_Category</th>\n",
       "      <th>Annual CO2 emissions</th>\n",
       "      <th>Fossil fuels per capita (kWh)</th>\n",
       "    </tr>\n",
       "  </thead>\n",
       "  <tbody>\n",
       "    <tr>\n",
       "      <th>34</th>\n",
       "      <td>Aruba</td>\n",
       "      <td>ABW</td>\n",
       "      <td>1961</td>\n",
       "      <td>Country</td>\n",
       "      <td>645553.0</td>\n",
       "      <td>NaN</td>\n",
       "    </tr>\n",
       "    <tr>\n",
       "      <th>35</th>\n",
       "      <td>Aruba</td>\n",
       "      <td>ABW</td>\n",
       "      <td>1962</td>\n",
       "      <td>Country</td>\n",
       "      <td>708942.0</td>\n",
       "      <td>NaN</td>\n",
       "    </tr>\n",
       "  </tbody>\n",
       "</table>\n",
       "</div>"
      ],
      "text/plain": [
       "   Entity Code  Year Entity_Category  Annual CO2 emissions  \\\n",
       "34  Aruba  ABW  1961         Country              645553.0   \n",
       "35  Aruba  ABW  1962         Country              708942.0   \n",
       "\n",
       "    Fossil fuels per capita (kWh)  \n",
       "34                            NaN  \n",
       "35                            NaN  "
      ]
     },
     "execution_count": 7,
     "metadata": {},
     "output_type": "execute_result"
    }
   ],
   "source": [
    "df_original.head(2)"
   ]
  },
  {
   "cell_type": "code",
   "execution_count": 8,
   "id": "c8eaa985-2f11-4c6e-9d0e-1f1764a31aa6",
   "metadata": {},
   "outputs": [],
   "source": [
    "df_original['Year'] = pd.to_datetime(df_original['Year'], format='%Y')"
   ]
  },
  {
   "cell_type": "markdown",
   "id": "e6b3200e-41da-4769-a13f-24e2ae3e4771",
   "metadata": {},
   "source": [
    "### Create Per Country Dataframes"
   ]
  },
  {
   "cell_type": "code",
   "execution_count": 9,
   "id": "05d24160-9f9c-4860-be58-4c62405467f3",
   "metadata": {},
   "outputs": [],
   "source": [
    "x = 'Year'\n",
    "y = 'Annual CO2 emissions'"
   ]
  },
  {
   "cell_type": "code",
   "execution_count": 10,
   "id": "8de0ec5f-18dc-4f9d-a6c7-0cc86f3f247b",
   "metadata": {},
   "outputs": [],
   "source": [
    "entity_dfs_dict = {}\n",
    "\n",
    "for entity in df_original['Entity'].unique():\n",
    "    entity_dfs_dict[entity] = df_original.loc[df_original['Entity'] == entity][[x, y]]\n",
    "    entity_dfs_dict[entity].columns = ['ds', 'y']"
   ]
  },
  {
   "cell_type": "code",
   "execution_count": 11,
   "id": "34599bf0-5a29-4ee2-808a-7a6f282df90b",
   "metadata": {},
   "outputs": [
    {
     "data": {
      "text/html": [
       "<div>\n",
       "<style scoped>\n",
       "    .dataframe tbody tr th:only-of-type {\n",
       "        vertical-align: middle;\n",
       "    }\n",
       "\n",
       "    .dataframe tbody tr th {\n",
       "        vertical-align: top;\n",
       "    }\n",
       "\n",
       "    .dataframe thead th {\n",
       "        text-align: right;\n",
       "    }\n",
       "</style>\n",
       "<table border=\"1\" class=\"dataframe\">\n",
       "  <thead>\n",
       "    <tr style=\"text-align: right;\">\n",
       "      <th></th>\n",
       "      <th>ds</th>\n",
       "      <th>y</th>\n",
       "    </tr>\n",
       "  </thead>\n",
       "  <tbody>\n",
       "    <tr>\n",
       "      <th>21818</th>\n",
       "      <td>1961-01-01</td>\n",
       "      <td>5061263.0</td>\n",
       "    </tr>\n",
       "    <tr>\n",
       "      <th>21819</th>\n",
       "      <td>1962-01-01</td>\n",
       "      <td>4888959.0</td>\n",
       "    </tr>\n",
       "    <tr>\n",
       "      <th>21820</th>\n",
       "      <td>1963-01-01</td>\n",
       "      <td>4700377.0</td>\n",
       "    </tr>\n",
       "    <tr>\n",
       "      <th>21821</th>\n",
       "      <td>1964-01-01</td>\n",
       "      <td>4469069.0</td>\n",
       "    </tr>\n",
       "    <tr>\n",
       "      <th>21822</th>\n",
       "      <td>1965-01-01</td>\n",
       "      <td>5209198.0</td>\n",
       "    </tr>\n",
       "  </tbody>\n",
       "</table>\n",
       "</div>"
      ],
      "text/plain": [
       "              ds          y\n",
       "21818 1961-01-01  5061263.0\n",
       "21819 1962-01-01  4888959.0\n",
       "21820 1963-01-01  4700377.0\n",
       "21821 1964-01-01  4469069.0\n",
       "21822 1965-01-01  5209198.0"
      ]
     },
     "execution_count": 11,
     "metadata": {},
     "output_type": "execute_result"
    }
   ],
   "source": [
    "entity_dfs_dict[entity].head()"
   ]
  },
  {
   "cell_type": "markdown",
   "id": "2014d3ac-6b8b-44d7-893b-5e08f1387eed",
   "metadata": {},
   "source": [
    "## Forecast Generation "
   ]
  },
  {
   "cell_type": "code",
   "execution_count": 12,
   "id": "5c8b36f9-e429-4dd4-a870-d48f08a12a1d",
   "metadata": {},
   "outputs": [],
   "source": [
    "def create_predict_df_for_entity(entity_name):\n",
    "    df = entity_dfs_dict[entity_name]\n",
    "    \n",
    "    m = Prophet(\n",
    "        yearly_seasonality='auto',\n",
    "        weekly_seasonality=False,\n",
    "        daily_seasonality=False,\n",
    "    )\n",
    "    m.fit(df)\n",
    "    \n",
    "    future = m.make_future_dataframe(periods=forecast_horizon, freq='Y')\n",
    "    forecast = m.predict(future)\n",
    "    \n",
    "    df = df.set_index('ds').join(forecast.set_index('ds'), how='outer').reset_index()\n",
    "    df['Entity'] = entity_name\n",
    "    \n",
    "    return df"
   ]
  },
  {
   "cell_type": "code",
   "execution_count": 13,
   "id": "14cd8ad2-3680-4c56-a71d-28daa440867f",
   "metadata": {},
   "outputs": [],
   "source": [
    "def create_pred_df(entity_dfs_dict):\n",
    "    all_pred_df = pd.DataFrame()\n",
    "\n",
    "    try:\n",
    "        for entity_name in entity_dfs_dict:\n",
    "            print(f\"Forecasting for {entity_name} done\")\n",
    "            \n",
    "            try:\n",
    "                df = create_predict_df_for_entity(entity_name)    \n",
    "            except ValueError:\n",
    "                print(f'Not enough observations in {entity_name} for forecasting')\n",
    "                df = pd.DataFrame()\n",
    "\n",
    "            all_pred_df = pd.concat([all_pred_df, df])\n",
    "        return all_pred_df\n",
    "    \n",
    "    except KeyboardInterrupt:\n",
    "        return all_pred_df"
   ]
  },
  {
   "cell_type": "code",
   "execution_count": 14,
   "id": "c36cd77c-6ae7-42f4-97c3-f8f61d9db82e",
   "metadata": {},
   "outputs": [
    {
     "name": "stdout",
     "output_type": "stream",
     "text": [
      "Forecasting for Aruba done\n",
      "Forecasting for Afghanistan done\n",
      "Forecasting for Angola done\n"
     ]
    },
    {
     "name": "stderr",
     "output_type": "stream",
     "text": [
      "INFO:prophet:n_changepoints greater than number of observations. Using 23.\n"
     ]
    },
    {
     "name": "stdout",
     "output_type": "stream",
     "text": [
      "Forecasting for Anguilla done\n",
      "Forecasting for Albania done\n"
     ]
    },
    {
     "name": "stderr",
     "output_type": "stream",
     "text": [
      "INFO:prophet:n_changepoints greater than number of observations. Using 23.\n"
     ]
    },
    {
     "name": "stdout",
     "output_type": "stream",
     "text": [
      "Forecasting for Andorra done\n",
      "Forecasting for Netherlands Antilles done\n",
      "Not enough observations in Netherlands Antilles for forecasting\n",
      "Forecasting for United Arab Emirates done\n",
      "Forecasting for Argentina done\n",
      "Forecasting for Armenia done\n"
     ]
    },
    {
     "name": "stderr",
     "output_type": "stream",
     "text": [
      "INFO:prophet:n_changepoints greater than number of observations. Using 15.\n"
     ]
    },
    {
     "name": "stdout",
     "output_type": "stream",
     "text": [
      "Forecasting for American Samoa done\n",
      "Not enough observations in American Samoa for forecasting\n",
      "Forecasting for Antarctica done\n",
      "Forecasting for Antigua And Barbuda done\n",
      "Forecasting for Australia done\n",
      "Forecasting for Austria done\n",
      "Forecasting for Azerbaijan done\n",
      "Forecasting for Burundi done\n",
      "Forecasting for Belgium done\n",
      "Forecasting for Benin done\n",
      "Forecasting for Bonaire Sint Eustatius And Saba done\n",
      "Forecasting for Burkina Faso done\n",
      "Forecasting for Bangladesh done\n",
      "Forecasting for Bulgaria done\n",
      "Forecasting for Bahrain done\n",
      "Forecasting for Bahamas done\n",
      "Forecasting for Bosnia And Herzegovina done\n",
      "Forecasting for Belarus done\n",
      "Forecasting for Belize done\n",
      "Forecasting for Bermuda done\n",
      "Forecasting for Bolivia done\n",
      "Forecasting for Brazil done\n",
      "Forecasting for Barbados done\n",
      "Forecasting for Brunei done\n",
      "Forecasting for Bhutan done\n",
      "Forecasting for Botswana done\n",
      "Forecasting for Central African Republic done\n",
      "Forecasting for Canada done\n",
      "Forecasting for Switzerland done\n",
      "Forecasting for Chile done\n",
      "Forecasting for China done\n",
      "Forecasting for Cote D'Ivoire done\n",
      "Forecasting for Cameroon done\n",
      "Forecasting for Democratic Republic Of Congo done\n",
      "Forecasting for Congo done\n",
      "Forecasting for Cook Islands done\n",
      "Forecasting for Colombia done\n",
      "Forecasting for Comoros done\n",
      "Forecasting for Cape Verde done\n",
      "Forecasting for Costa Rica done\n",
      "Forecasting for Cuba done\n",
      "Forecasting for Curacao done\n"
     ]
    },
    {
     "name": "stderr",
     "output_type": "stream",
     "text": [
      "INFO:prophet:n_changepoints greater than number of observations. Using 10.\n"
     ]
    },
    {
     "name": "stdout",
     "output_type": "stream",
     "text": [
      "Forecasting for Christmas Island done\n",
      "Forecasting for Cayman Islands done\n",
      "Not enough observations in Cayman Islands for forecasting\n",
      "Forecasting for Cyprus done\n",
      "Forecasting for Czechia done\n",
      "Forecasting for Germany done\n",
      "Forecasting for Djibouti done\n",
      "Forecasting for Dominica done\n",
      "Forecasting for Denmark done\n",
      "Forecasting for Dominican Republic done\n",
      "Forecasting for Algeria done\n",
      "Forecasting for Ecuador done\n",
      "Forecasting for Egypt done\n"
     ]
    },
    {
     "name": "stderr",
     "output_type": "stream",
     "text": [
      "INFO:prophet:n_changepoints greater than number of observations. Using 20.\n"
     ]
    },
    {
     "name": "stdout",
     "output_type": "stream",
     "text": [
      "Forecasting for Eritrea done\n",
      "Forecasting for Western Sahara done\n",
      "Not enough observations in Western Sahara for forecasting\n",
      "Forecasting for Spain done\n",
      "Forecasting for Estonia done\n",
      "Forecasting for Ethiopia done\n",
      "Forecasting for Finland done\n",
      "Forecasting for Fiji done\n",
      "Forecasting for Falkland Islands done\n",
      "Not enough observations in Falkland Islands for forecasting\n",
      "Forecasting for France done\n",
      "Forecasting for Faeroe Islands done\n"
     ]
    },
    {
     "name": "stderr",
     "output_type": "stream",
     "text": [
      "INFO:prophet:n_changepoints greater than number of observations. Using 22.\n"
     ]
    },
    {
     "name": "stdout",
     "output_type": "stream",
     "text": [
      "Forecasting for Micronesia (Country) done\n",
      "Forecasting for Gabon done\n",
      "Forecasting for United Kingdom done\n",
      "Forecasting for Georgia done\n",
      "Forecasting for Ghana done\n",
      "Forecasting for Gibraltar done\n",
      "Not enough observations in Gibraltar for forecasting\n",
      "Forecasting for Guinea done\n",
      "Forecasting for Guadeloupe done\n",
      "Forecasting for Gambia done\n",
      "Forecasting for Guinea-Bissau done\n",
      "Forecasting for Equatorial Guinea done\n",
      "Forecasting for Greece done\n",
      "Forecasting for Grenada done\n",
      "Forecasting for Greenland done\n",
      "Forecasting for Guatemala done\n",
      "Forecasting for French Guiana done\n",
      "Forecasting for Guam done\n",
      "Not enough observations in Guam for forecasting\n",
      "Forecasting for Guyana done\n",
      "Forecasting for Hong Kong done\n",
      "Forecasting for Honduras done\n",
      "Forecasting for Croatia done\n",
      "Forecasting for Haiti done\n",
      "Forecasting for Hungary done\n",
      "Forecasting for Indonesia done\n",
      "Forecasting for India done\n",
      "Forecasting for Ireland done\n",
      "Forecasting for Iran done\n",
      "Forecasting for Iraq done\n",
      "Forecasting for Iceland done\n",
      "Forecasting for Israel done\n",
      "Forecasting for Italy done\n",
      "Forecasting for Jamaica done\n",
      "Forecasting for Jordan done\n",
      "Forecasting for Japan done\n",
      "Forecasting for Kazakhstan done\n",
      "Forecasting for Kenya done\n",
      "Forecasting for Kyrgyzstan done\n",
      "Forecasting for Cambodia done\n",
      "Forecasting for Kiribati done\n",
      "Forecasting for Saint Kitts And Nevis done\n",
      "Forecasting for South Korea done\n",
      "Forecasting for Kuwait done\n",
      "Forecasting for Laos done\n",
      "Forecasting for Lebanon done\n",
      "Forecasting for Liberia done\n",
      "Forecasting for Libya done\n",
      "Forecasting for Saint Lucia done\n"
     ]
    },
    {
     "name": "stderr",
     "output_type": "stream",
     "text": [
      "INFO:prophet:n_changepoints greater than number of observations. Using 23.\n"
     ]
    },
    {
     "name": "stdout",
     "output_type": "stream",
     "text": [
      "Forecasting for Liechtenstein done\n",
      "Forecasting for Sri Lanka done\n"
     ]
    },
    {
     "name": "stderr",
     "output_type": "stream",
     "text": [
      "INFO:prophet:n_changepoints greater than number of observations. Using 23.\n"
     ]
    },
    {
     "name": "stdout",
     "output_type": "stream",
     "text": [
      "Forecasting for Lesotho done\n",
      "Forecasting for Lithuania done\n",
      "Forecasting for Luxembourg done\n",
      "Forecasting for Latvia done\n",
      "Forecasting for Macao done\n",
      "Forecasting for Morocco done\n",
      "Forecasting for Moldova done\n",
      "Forecasting for Madagascar done\n",
      "Forecasting for Maldives done\n",
      "Forecasting for Mexico done\n"
     ]
    },
    {
     "name": "stderr",
     "output_type": "stream",
     "text": [
      "INFO:prophet:n_changepoints greater than number of observations. Using 22.\n"
     ]
    },
    {
     "name": "stdout",
     "output_type": "stream",
     "text": [
      "Forecasting for Marshall Islands done\n",
      "Forecasting for North Macedonia done\n",
      "Forecasting for Mali done\n",
      "Forecasting for Malta done\n",
      "Forecasting for Myanmar done\n",
      "Forecasting for Montenegro done\n",
      "Forecasting for Mongolia done\n",
      "Forecasting for Mozambique done\n",
      "Forecasting for Mauritania done\n",
      "Forecasting for Montserrat done\n",
      "Forecasting for Martinique done\n",
      "Forecasting for Mauritius done\n",
      "Forecasting for Malawi done\n",
      "Forecasting for Malaysia done\n"
     ]
    },
    {
     "name": "stderr",
     "output_type": "stream",
     "text": [
      "INFO:prophet:n_changepoints greater than number of observations. Using 23.\n"
     ]
    },
    {
     "name": "stdout",
     "output_type": "stream",
     "text": [
      "Forecasting for Mayotte done\n"
     ]
    },
    {
     "name": "stderr",
     "output_type": "stream",
     "text": [
      "INFO:prophet:n_changepoints greater than number of observations. Using 23.\n"
     ]
    },
    {
     "name": "stdout",
     "output_type": "stream",
     "text": [
      "Forecasting for Namibia done\n",
      "Forecasting for New Caledonia done\n",
      "Forecasting for Niger done\n",
      "Forecasting for Nigeria done\n",
      "Forecasting for Nicaragua done\n",
      "Forecasting for Niue done\n",
      "Forecasting for Netherlands done\n",
      "Forecasting for Norway done\n",
      "Forecasting for Nepal done\n",
      "Forecasting for Nauru done\n",
      "Forecasting for New Zealand done\n",
      "Forecasting for Oman done\n"
     ]
    },
    {
     "name": "stderr",
     "output_type": "stream",
     "text": [
      "INFO:prophet:n_changepoints greater than number of observations. Using 9.\n"
     ]
    },
    {
     "name": "stdout",
     "output_type": "stream",
     "text": [
      "Forecasting for Czechoslovakia done\n",
      "Not enough observations in Czechoslovakia for forecasting\n",
      "Forecasting for Kosovo done\n",
      "Forecasting for Serbia And Montenegro done\n",
      "Not enough observations in Serbia And Montenegro for forecasting\n",
      "Forecasting for Ussr done\n",
      "Not enough observations in Ussr for forecasting\n",
      "Forecasting for World done\n",
      "Forecasting for Yugoslavia done\n",
      "Not enough observations in Yugoslavia for forecasting\n",
      "Forecasting for Pakistan done\n",
      "Forecasting for Panama done\n",
      "Forecasting for Peru done\n",
      "Forecasting for Philippines done\n",
      "Forecasting for Palau done\n",
      "Forecasting for Papua New Guinea done\n",
      "Forecasting for Poland done\n",
      "Forecasting for Puerto Rico done\n",
      "Not enough observations in Puerto Rico for forecasting\n",
      "Forecasting for North Korea done\n",
      "Forecasting for Portugal done\n",
      "Forecasting for Paraguay done\n"
     ]
    },
    {
     "name": "stderr",
     "output_type": "stream",
     "text": [
      "INFO:prophet:n_changepoints greater than number of observations. Using 23.\n"
     ]
    },
    {
     "name": "stdout",
     "output_type": "stream",
     "text": [
      "Forecasting for Palestine done\n",
      "Forecasting for French Polynesia done\n",
      "Forecasting for Qatar done\n",
      "Forecasting for Reunion done\n",
      "Forecasting for Romania done\n",
      "Forecasting for Russia done\n",
      "Forecasting for Rwanda done\n",
      "Forecasting for Saudi Arabia done\n",
      "Forecasting for Sudan done\n",
      "Forecasting for Senegal done\n",
      "Forecasting for Singapore done\n",
      "Forecasting for Saint Helena done\n",
      "Forecasting for Solomon Islands done\n",
      "Forecasting for Sierra Leone done\n",
      "Forecasting for El Salvador done\n",
      "Forecasting for Somalia done\n",
      "Forecasting for Saint Pierre And Miquelon done\n",
      "Forecasting for Serbia done\n",
      "Forecasting for South Sudan done\n",
      "Forecasting for Sao Tome And Principe done\n",
      "Forecasting for Suriname done\n",
      "Forecasting for Slovakia done\n",
      "Forecasting for Slovenia done\n",
      "Forecasting for Sweden done\n",
      "Forecasting for Eswatini done\n",
      "Forecasting for Sint Maarten (Dutch Part) done\n",
      "Forecasting for Seychelles done\n",
      "Forecasting for Syria done\n"
     ]
    },
    {
     "name": "stderr",
     "output_type": "stream",
     "text": [
      "INFO:prophet:n_changepoints greater than number of observations. Using 23.\n"
     ]
    },
    {
     "name": "stdout",
     "output_type": "stream",
     "text": [
      "Forecasting for Turks And Caicos Islands done\n",
      "Forecasting for Chad done\n",
      "Forecasting for Togo done\n",
      "Forecasting for Thailand done\n",
      "Forecasting for Tajikistan done\n",
      "Forecasting for Turkmenistan done\n"
     ]
    },
    {
     "name": "stderr",
     "output_type": "stream",
     "text": [
      "INFO:prophet:n_changepoints greater than number of observations. Using 14.\n"
     ]
    },
    {
     "name": "stdout",
     "output_type": "stream",
     "text": [
      "Forecasting for Timor done\n",
      "Forecasting for Tonga done\n",
      "Forecasting for Trinidad And Tobago done\n",
      "Forecasting for Tunisia done\n",
      "Forecasting for Turkey done\n"
     ]
    },
    {
     "name": "stderr",
     "output_type": "stream",
     "text": [
      "INFO:prophet:n_changepoints greater than number of observations. Using 23.\n"
     ]
    },
    {
     "name": "stdout",
     "output_type": "stream",
     "text": [
      "Forecasting for Tuvalu done\n",
      "Forecasting for Taiwan done\n",
      "Forecasting for Tanzania done\n",
      "Forecasting for Uganda done\n",
      "Forecasting for Ukraine done\n",
      "Forecasting for Uruguay done\n",
      "Forecasting for United States done\n",
      "Forecasting for Uzbekistan done\n",
      "Forecasting for Saint Vincent And The Grenadines done\n",
      "Forecasting for Venezuela done\n",
      "Forecasting for British Virgin Islands done\n",
      "Forecasting for United States Virgin Islands done\n",
      "Not enough observations in United States Virgin Islands for forecasting\n",
      "Forecasting for Vietnam done\n",
      "Forecasting for Vanuatu done\n"
     ]
    },
    {
     "name": "stderr",
     "output_type": "stream",
     "text": [
      "INFO:prophet:n_changepoints greater than number of observations. Using 15.\n"
     ]
    },
    {
     "name": "stdout",
     "output_type": "stream",
     "text": [
      "Forecasting for Wallis And Futuna done\n",
      "Forecasting for Samoa done\n",
      "Forecasting for Yemen done\n",
      "Forecasting for South Africa done\n",
      "Forecasting for Zambia done\n",
      "Forecasting for Zimbabwe done\n"
     ]
    }
   ],
   "source": [
    "all_entities_pred_df = create_pred_df(entity_dfs_dict)"
   ]
  },
  {
   "cell_type": "markdown",
   "id": "bd7958d3-5787-4217-9fa1-1ced064c761a",
   "metadata": {},
   "source": [
    "### Calculate Next 10 year sum"
   ]
  },
  {
   "cell_type": "code",
   "execution_count": 26,
   "id": "e812ed4a-629f-4ef4-a964-0bd1c76a6f55",
   "metadata": {},
   "outputs": [
    {
     "data": {
      "text/plain": [
       "Timestamp('2050-12-31 00:00:00')"
      ]
     },
     "execution_count": 26,
     "metadata": {},
     "output_type": "execute_result"
    }
   ],
   "source": [
    "all_entities_pred_df['ds'].max()"
   ]
  },
  {
   "cell_type": "code",
   "execution_count": 27,
   "id": "137260ad-6b4d-48d7-8f2b-4812ce248ad1",
   "metadata": {},
   "outputs": [],
   "source": [
    "df_final = all_entities_pred_df.rename(columns={'ds':'Year', 'y': f'{y}', 'yhat': f'{y}_predicted'})"
   ]
  },
  {
   "cell_type": "code",
   "execution_count": 28,
   "id": "c00d4657-9424-4233-88ec-26fc5b79fe26",
   "metadata": {},
   "outputs": [],
   "source": [
    "df_final['Year'] = df_final['Year'].dt.year"
   ]
  },
  {
   "cell_type": "code",
   "execution_count": 29,
   "id": "cc5861c4-2d8f-49fd-8021-b4fcd131b45c",
   "metadata": {},
   "outputs": [
    {
     "data": {
      "text/plain": [
       "2050"
      ]
     },
     "execution_count": 29,
     "metadata": {},
     "output_type": "execute_result"
    }
   ],
   "source": [
    "df_final['Year'].max()"
   ]
  },
  {
   "cell_type": "code",
   "execution_count": 30,
   "id": "3e0b424f-1ae0-4ab5-b39c-39d884bf97d8",
   "metadata": {},
   "outputs": [],
   "source": [
    "entity_lookup = df_original[['Entity_Category', 'Entity']].drop_duplicates()\n",
    "\n",
    "df_final = df_final.merge(entity_lookup, how='left')"
   ]
  },
  {
   "cell_type": "code",
   "execution_count": 31,
   "id": "9256b96e-3511-4584-b717-023004f60be1",
   "metadata": {},
   "outputs": [
    {
     "data": {
      "text/html": [
       "<div>\n",
       "<style scoped>\n",
       "    .dataframe tbody tr th:only-of-type {\n",
       "        vertical-align: middle;\n",
       "    }\n",
       "\n",
       "    .dataframe tbody tr th {\n",
       "        vertical-align: top;\n",
       "    }\n",
       "\n",
       "    .dataframe thead th {\n",
       "        text-align: right;\n",
       "    }\n",
       "</style>\n",
       "<table border=\"1\" class=\"dataframe\">\n",
       "  <thead>\n",
       "    <tr style=\"text-align: right;\">\n",
       "      <th></th>\n",
       "      <th>Year</th>\n",
       "      <th>Annual CO2 emissions</th>\n",
       "      <th>trend</th>\n",
       "      <th>yhat_lower</th>\n",
       "      <th>yhat_upper</th>\n",
       "      <th>trend_lower</th>\n",
       "      <th>trend_upper</th>\n",
       "      <th>additive_terms</th>\n",
       "      <th>additive_terms_lower</th>\n",
       "      <th>additive_terms_upper</th>\n",
       "      <th>yearly</th>\n",
       "      <th>yearly_lower</th>\n",
       "      <th>yearly_upper</th>\n",
       "      <th>multiplicative_terms</th>\n",
       "      <th>multiplicative_terms_lower</th>\n",
       "      <th>multiplicative_terms_upper</th>\n",
       "      <th>Annual CO2 emissions_predicted</th>\n",
       "      <th>Entity</th>\n",
       "      <th>Entity_Category</th>\n",
       "    </tr>\n",
       "  </thead>\n",
       "  <tbody>\n",
       "    <tr>\n",
       "      <th>0</th>\n",
       "      <td>1961</td>\n",
       "      <td>645553.0</td>\n",
       "      <td>348572.950385</td>\n",
       "      <td>-392061.276763</td>\n",
       "      <td>1.326828e+06</td>\n",
       "      <td>348572.950385</td>\n",
       "      <td>348572.950385</td>\n",
       "      <td>115998.488548</td>\n",
       "      <td>115998.488548</td>\n",
       "      <td>115998.488548</td>\n",
       "      <td>115998.488548</td>\n",
       "      <td>115998.488548</td>\n",
       "      <td>115998.488548</td>\n",
       "      <td>0.0</td>\n",
       "      <td>0.0</td>\n",
       "      <td>0.0</td>\n",
       "      <td>464571.438933</td>\n",
       "      <td>Aruba</td>\n",
       "      <td>Country</td>\n",
       "    </tr>\n",
       "    <tr>\n",
       "      <th>1</th>\n",
       "      <td>1962</td>\n",
       "      <td>708942.0</td>\n",
       "      <td>370307.263601</td>\n",
       "      <td>-374778.972297</td>\n",
       "      <td>1.302761e+06</td>\n",
       "      <td>370307.263601</td>\n",
       "      <td>370307.263601</td>\n",
       "      <td>99152.215880</td>\n",
       "      <td>99152.215880</td>\n",
       "      <td>99152.215880</td>\n",
       "      <td>99152.215880</td>\n",
       "      <td>99152.215880</td>\n",
       "      <td>99152.215880</td>\n",
       "      <td>0.0</td>\n",
       "      <td>0.0</td>\n",
       "      <td>0.0</td>\n",
       "      <td>469459.479482</td>\n",
       "      <td>Aruba</td>\n",
       "      <td>Country</td>\n",
       "    </tr>\n",
       "    <tr>\n",
       "      <th>2</th>\n",
       "      <td>1963</td>\n",
       "      <td>679088.0</td>\n",
       "      <td>392041.576818</td>\n",
       "      <td>-392316.399390</td>\n",
       "      <td>1.359247e+06</td>\n",
       "      <td>392041.576818</td>\n",
       "      <td>392041.576818</td>\n",
       "      <td>89219.703262</td>\n",
       "      <td>89219.703262</td>\n",
       "      <td>89219.703262</td>\n",
       "      <td>89219.703262</td>\n",
       "      <td>89219.703262</td>\n",
       "      <td>89219.703262</td>\n",
       "      <td>0.0</td>\n",
       "      <td>0.0</td>\n",
       "      <td>0.0</td>\n",
       "      <td>481261.280081</td>\n",
       "      <td>Aruba</td>\n",
       "      <td>Country</td>\n",
       "    </tr>\n",
       "    <tr>\n",
       "      <th>3</th>\n",
       "      <td>1964</td>\n",
       "      <td>660275.0</td>\n",
       "      <td>413775.890031</td>\n",
       "      <td>-382731.039051</td>\n",
       "      <td>1.356004e+06</td>\n",
       "      <td>413775.890031</td>\n",
       "      <td>413775.890031</td>\n",
       "      <td>86213.095529</td>\n",
       "      <td>86213.095529</td>\n",
       "      <td>86213.095529</td>\n",
       "      <td>86213.095529</td>\n",
       "      <td>86213.095529</td>\n",
       "      <td>86213.095529</td>\n",
       "      <td>0.0</td>\n",
       "      <td>0.0</td>\n",
       "      <td>0.0</td>\n",
       "      <td>499988.985560</td>\n",
       "      <td>Aruba</td>\n",
       "      <td>Country</td>\n",
       "    </tr>\n",
       "    <tr>\n",
       "      <th>4</th>\n",
       "      <td>1965</td>\n",
       "      <td>592387.0</td>\n",
       "      <td>435569.749307</td>\n",
       "      <td>-292298.458799</td>\n",
       "      <td>1.385045e+06</td>\n",
       "      <td>435569.749307</td>\n",
       "      <td>435569.749307</td>\n",
       "      <td>115998.488548</td>\n",
       "      <td>115998.488548</td>\n",
       "      <td>115998.488548</td>\n",
       "      <td>115998.488548</td>\n",
       "      <td>115998.488548</td>\n",
       "      <td>115998.488548</td>\n",
       "      <td>0.0</td>\n",
       "      <td>0.0</td>\n",
       "      <td>0.0</td>\n",
       "      <td>551568.237855</td>\n",
       "      <td>Aruba</td>\n",
       "      <td>Country</td>\n",
       "    </tr>\n",
       "  </tbody>\n",
       "</table>\n",
       "</div>"
      ],
      "text/plain": [
       "   Year  Annual CO2 emissions          trend     yhat_lower    yhat_upper  \\\n",
       "0  1961              645553.0  348572.950385 -392061.276763  1.326828e+06   \n",
       "1  1962              708942.0  370307.263601 -374778.972297  1.302761e+06   \n",
       "2  1963              679088.0  392041.576818 -392316.399390  1.359247e+06   \n",
       "3  1964              660275.0  413775.890031 -382731.039051  1.356004e+06   \n",
       "4  1965              592387.0  435569.749307 -292298.458799  1.385045e+06   \n",
       "\n",
       "     trend_lower    trend_upper  additive_terms  additive_terms_lower  \\\n",
       "0  348572.950385  348572.950385   115998.488548         115998.488548   \n",
       "1  370307.263601  370307.263601    99152.215880          99152.215880   \n",
       "2  392041.576818  392041.576818    89219.703262          89219.703262   \n",
       "3  413775.890031  413775.890031    86213.095529          86213.095529   \n",
       "4  435569.749307  435569.749307   115998.488548         115998.488548   \n",
       "\n",
       "   additive_terms_upper         yearly   yearly_lower   yearly_upper  \\\n",
       "0         115998.488548  115998.488548  115998.488548  115998.488548   \n",
       "1          99152.215880   99152.215880   99152.215880   99152.215880   \n",
       "2          89219.703262   89219.703262   89219.703262   89219.703262   \n",
       "3          86213.095529   86213.095529   86213.095529   86213.095529   \n",
       "4         115998.488548  115998.488548  115998.488548  115998.488548   \n",
       "\n",
       "   multiplicative_terms  multiplicative_terms_lower  \\\n",
       "0                   0.0                         0.0   \n",
       "1                   0.0                         0.0   \n",
       "2                   0.0                         0.0   \n",
       "3                   0.0                         0.0   \n",
       "4                   0.0                         0.0   \n",
       "\n",
       "   multiplicative_terms_upper  Annual CO2 emissions_predicted Entity  \\\n",
       "0                         0.0                   464571.438933  Aruba   \n",
       "1                         0.0                   469459.479482  Aruba   \n",
       "2                         0.0                   481261.280081  Aruba   \n",
       "3                         0.0                   499988.985560  Aruba   \n",
       "4                         0.0                   551568.237855  Aruba   \n",
       "\n",
       "  Entity_Category  \n",
       "0         Country  \n",
       "1         Country  \n",
       "2         Country  \n",
       "3         Country  \n",
       "4         Country  "
      ]
     },
     "execution_count": 31,
     "metadata": {},
     "output_type": "execute_result"
    }
   ],
   "source": [
    "df_final.head()"
   ]
  },
  {
   "cell_type": "code",
   "execution_count": 38,
   "id": "929d10c5-60ca-47a8-b045-df79fb222fc4",
   "metadata": {},
   "outputs": [
    {
     "data": {
      "text/html": [
       "<div>\n",
       "<style scoped>\n",
       "    .dataframe tbody tr th:only-of-type {\n",
       "        vertical-align: middle;\n",
       "    }\n",
       "\n",
       "    .dataframe tbody tr th {\n",
       "        vertical-align: top;\n",
       "    }\n",
       "\n",
       "    .dataframe thead th {\n",
       "        text-align: right;\n",
       "    }\n",
       "</style>\n",
       "<table border=\"1\" class=\"dataframe\">\n",
       "  <thead>\n",
       "    <tr style=\"text-align: right;\">\n",
       "      <th></th>\n",
       "      <th>Year</th>\n",
       "      <th>Annual CO2 emissions</th>\n",
       "      <th>trend</th>\n",
       "      <th>yhat_lower</th>\n",
       "      <th>yhat_upper</th>\n",
       "      <th>trend_lower</th>\n",
       "      <th>trend_upper</th>\n",
       "      <th>additive_terms</th>\n",
       "      <th>additive_terms_lower</th>\n",
       "      <th>additive_terms_upper</th>\n",
       "      <th>yearly</th>\n",
       "      <th>yearly_lower</th>\n",
       "      <th>yearly_upper</th>\n",
       "      <th>multiplicative_terms</th>\n",
       "      <th>multiplicative_terms_lower</th>\n",
       "      <th>multiplicative_terms_upper</th>\n",
       "      <th>Annual CO2 emissions_predicted</th>\n",
       "      <th>Entity</th>\n",
       "      <th>Entity_Category</th>\n",
       "    </tr>\n",
       "  </thead>\n",
       "  <tbody>\n",
       "    <tr>\n",
       "      <th>49</th>\n",
       "      <td>2010</td>\n",
       "      <td>2506176.0</td>\n",
       "      <td>1.414269e+06</td>\n",
       "      <td>5.772685e+05</td>\n",
       "      <td>2.346292e+06</td>\n",
       "      <td>1.414269e+06</td>\n",
       "      <td>1.414269e+06</td>\n",
       "      <td>9.915222e+04</td>\n",
       "      <td>9.915222e+04</td>\n",
       "      <td>9.915222e+04</td>\n",
       "      <td>9.915222e+04</td>\n",
       "      <td>9.915222e+04</td>\n",
       "      <td>9.915222e+04</td>\n",
       "      <td>0.0</td>\n",
       "      <td>0.0</td>\n",
       "      <td>0.0</td>\n",
       "      <td>1.513421e+06</td>\n",
       "      <td>Aruba</td>\n",
       "      <td>Country</td>\n",
       "    </tr>\n",
       "    <tr>\n",
       "      <th>50</th>\n",
       "      <td>2011</td>\n",
       "      <td>2498848.0</td>\n",
       "      <td>1.436003e+06</td>\n",
       "      <td>6.222454e+05</td>\n",
       "      <td>2.363576e+06</td>\n",
       "      <td>1.436003e+06</td>\n",
       "      <td>1.436003e+06</td>\n",
       "      <td>8.921970e+04</td>\n",
       "      <td>8.921970e+04</td>\n",
       "      <td>8.921970e+04</td>\n",
       "      <td>8.921970e+04</td>\n",
       "      <td>8.921970e+04</td>\n",
       "      <td>8.921970e+04</td>\n",
       "      <td>0.0</td>\n",
       "      <td>0.0</td>\n",
       "      <td>0.0</td>\n",
       "      <td>1.525223e+06</td>\n",
       "      <td>Aruba</td>\n",
       "      <td>Country</td>\n",
       "    </tr>\n",
       "    <tr>\n",
       "      <th>139</th>\n",
       "      <td>2010</td>\n",
       "      <td>8397779.0</td>\n",
       "      <td>4.482451e+06</td>\n",
       "      <td>2.664981e+06</td>\n",
       "      <td>8.573177e+06</td>\n",
       "      <td>4.482451e+06</td>\n",
       "      <td>4.482451e+06</td>\n",
       "      <td>1.025230e+06</td>\n",
       "      <td>1.025230e+06</td>\n",
       "      <td>1.025230e+06</td>\n",
       "      <td>1.025230e+06</td>\n",
       "      <td>1.025230e+06</td>\n",
       "      <td>1.025230e+06</td>\n",
       "      <td>0.0</td>\n",
       "      <td>0.0</td>\n",
       "      <td>0.0</td>\n",
       "      <td>5.507682e+06</td>\n",
       "      <td>Afghanistan</td>\n",
       "      <td>Country</td>\n",
       "    </tr>\n",
       "    <tr>\n",
       "      <th>140</th>\n",
       "      <td>2011</td>\n",
       "      <td>12105788.0</td>\n",
       "      <td>4.604341e+06</td>\n",
       "      <td>2.802753e+06</td>\n",
       "      <td>8.674368e+06</td>\n",
       "      <td>4.604341e+06</td>\n",
       "      <td>4.604341e+06</td>\n",
       "      <td>1.149124e+06</td>\n",
       "      <td>1.149124e+06</td>\n",
       "      <td>1.149124e+06</td>\n",
       "      <td>1.149124e+06</td>\n",
       "      <td>1.149124e+06</td>\n",
       "      <td>1.149124e+06</td>\n",
       "      <td>0.0</td>\n",
       "      <td>0.0</td>\n",
       "      <td>0.0</td>\n",
       "      <td>5.753465e+06</td>\n",
       "      <td>Afghanistan</td>\n",
       "      <td>Country</td>\n",
       "    </tr>\n",
       "    <tr>\n",
       "      <th>229</th>\n",
       "      <td>2010</td>\n",
       "      <td>28864503.0</td>\n",
       "      <td>2.669853e+07</td>\n",
       "      <td>1.584073e+07</td>\n",
       "      <td>2.788072e+07</td>\n",
       "      <td>2.669853e+07</td>\n",
       "      <td>2.669853e+07</td>\n",
       "      <td>-4.535899e+06</td>\n",
       "      <td>-4.535899e+06</td>\n",
       "      <td>-4.535899e+06</td>\n",
       "      <td>-4.535899e+06</td>\n",
       "      <td>-4.535899e+06</td>\n",
       "      <td>-4.535899e+06</td>\n",
       "      <td>0.0</td>\n",
       "      <td>0.0</td>\n",
       "      <td>0.0</td>\n",
       "      <td>2.216263e+07</td>\n",
       "      <td>Angola</td>\n",
       "      <td>Country</td>\n",
       "    </tr>\n",
       "    <tr>\n",
       "      <th>...</th>\n",
       "      <td>...</td>\n",
       "      <td>...</td>\n",
       "      <td>...</td>\n",
       "      <td>...</td>\n",
       "      <td>...</td>\n",
       "      <td>...</td>\n",
       "      <td>...</td>\n",
       "      <td>...</td>\n",
       "      <td>...</td>\n",
       "      <td>...</td>\n",
       "      <td>...</td>\n",
       "      <td>...</td>\n",
       "      <td>...</td>\n",
       "      <td>...</td>\n",
       "      <td>...</td>\n",
       "      <td>...</td>\n",
       "      <td>...</td>\n",
       "      <td>...</td>\n",
       "      <td>...</td>\n",
       "    </tr>\n",
       "    <tr>\n",
       "      <th>19236</th>\n",
       "      <td>2011</td>\n",
       "      <td>473948952.0</td>\n",
       "      <td>4.565131e+08</td>\n",
       "      <td>4.232050e+08</td>\n",
       "      <td>4.793291e+08</td>\n",
       "      <td>4.565131e+08</td>\n",
       "      <td>4.565131e+08</td>\n",
       "      <td>-3.157381e+06</td>\n",
       "      <td>-3.157381e+06</td>\n",
       "      <td>-3.157381e+06</td>\n",
       "      <td>-3.157381e+06</td>\n",
       "      <td>-3.157381e+06</td>\n",
       "      <td>-3.157381e+06</td>\n",
       "      <td>0.0</td>\n",
       "      <td>0.0</td>\n",
       "      <td>0.0</td>\n",
       "      <td>4.533557e+08</td>\n",
       "      <td>South Africa</td>\n",
       "      <td>Country</td>\n",
       "    </tr>\n",
       "    <tr>\n",
       "      <th>19326</th>\n",
       "      <td>2010</td>\n",
       "      <td>3120300.0</td>\n",
       "      <td>7.100872e+05</td>\n",
       "      <td>1.976791e+06</td>\n",
       "      <td>5.323809e+06</td>\n",
       "      <td>7.100872e+05</td>\n",
       "      <td>7.100872e+05</td>\n",
       "      <td>2.920004e+06</td>\n",
       "      <td>2.920004e+06</td>\n",
       "      <td>2.920004e+06</td>\n",
       "      <td>2.920004e+06</td>\n",
       "      <td>2.920004e+06</td>\n",
       "      <td>2.920004e+06</td>\n",
       "      <td>0.0</td>\n",
       "      <td>0.0</td>\n",
       "      <td>0.0</td>\n",
       "      <td>3.630091e+06</td>\n",
       "      <td>Zambia</td>\n",
       "      <td>Country</td>\n",
       "    </tr>\n",
       "    <tr>\n",
       "      <th>19327</th>\n",
       "      <td>2011</td>\n",
       "      <td>3372367.0</td>\n",
       "      <td>7.194968e+05</td>\n",
       "      <td>1.956958e+06</td>\n",
       "      <td>5.176817e+06</td>\n",
       "      <td>7.194968e+05</td>\n",
       "      <td>7.194968e+05</td>\n",
       "      <td>2.928404e+06</td>\n",
       "      <td>2.928404e+06</td>\n",
       "      <td>2.928404e+06</td>\n",
       "      <td>2.928404e+06</td>\n",
       "      <td>2.928404e+06</td>\n",
       "      <td>2.928404e+06</td>\n",
       "      <td>0.0</td>\n",
       "      <td>0.0</td>\n",
       "      <td>0.0</td>\n",
       "      <td>3.647901e+06</td>\n",
       "      <td>Zambia</td>\n",
       "      <td>Country</td>\n",
       "    </tr>\n",
       "    <tr>\n",
       "      <th>19416</th>\n",
       "      <td>2010</td>\n",
       "      <td>7878316.0</td>\n",
       "      <td>1.174671e+06</td>\n",
       "      <td>8.412342e+06</td>\n",
       "      <td>1.601006e+07</td>\n",
       "      <td>1.174671e+06</td>\n",
       "      <td>1.174671e+06</td>\n",
       "      <td>1.098231e+07</td>\n",
       "      <td>1.098231e+07</td>\n",
       "      <td>1.098231e+07</td>\n",
       "      <td>1.098231e+07</td>\n",
       "      <td>1.098231e+07</td>\n",
       "      <td>1.098231e+07</td>\n",
       "      <td>0.0</td>\n",
       "      <td>0.0</td>\n",
       "      <td>0.0</td>\n",
       "      <td>1.215698e+07</td>\n",
       "      <td>Zimbabwe</td>\n",
       "      <td>Country</td>\n",
       "    </tr>\n",
       "    <tr>\n",
       "      <th>19417</th>\n",
       "      <td>2011</td>\n",
       "      <td>9743983.0</td>\n",
       "      <td>1.258027e+06</td>\n",
       "      <td>8.212955e+06</td>\n",
       "      <td>1.618889e+07</td>\n",
       "      <td>1.258027e+06</td>\n",
       "      <td>1.258027e+06</td>\n",
       "      <td>1.102429e+07</td>\n",
       "      <td>1.102429e+07</td>\n",
       "      <td>1.102429e+07</td>\n",
       "      <td>1.102429e+07</td>\n",
       "      <td>1.102429e+07</td>\n",
       "      <td>1.102429e+07</td>\n",
       "      <td>0.0</td>\n",
       "      <td>0.0</td>\n",
       "      <td>0.0</td>\n",
       "      <td>1.228231e+07</td>\n",
       "      <td>Zimbabwe</td>\n",
       "      <td>Country</td>\n",
       "    </tr>\n",
       "  </tbody>\n",
       "</table>\n",
       "<p>444 rows × 19 columns</p>\n",
       "</div>"
      ],
      "text/plain": [
       "       Year  Annual CO2 emissions         trend    yhat_lower    yhat_upper  \\\n",
       "49     2010             2506176.0  1.414269e+06  5.772685e+05  2.346292e+06   \n",
       "50     2011             2498848.0  1.436003e+06  6.222454e+05  2.363576e+06   \n",
       "139    2010             8397779.0  4.482451e+06  2.664981e+06  8.573177e+06   \n",
       "140    2011            12105788.0  4.604341e+06  2.802753e+06  8.674368e+06   \n",
       "229    2010            28864503.0  2.669853e+07  1.584073e+07  2.788072e+07   \n",
       "...     ...                   ...           ...           ...           ...   \n",
       "19236  2011           473948952.0  4.565131e+08  4.232050e+08  4.793291e+08   \n",
       "19326  2010             3120300.0  7.100872e+05  1.976791e+06  5.323809e+06   \n",
       "19327  2011             3372367.0  7.194968e+05  1.956958e+06  5.176817e+06   \n",
       "19416  2010             7878316.0  1.174671e+06  8.412342e+06  1.601006e+07   \n",
       "19417  2011             9743983.0  1.258027e+06  8.212955e+06  1.618889e+07   \n",
       "\n",
       "        trend_lower   trend_upper  additive_terms  additive_terms_lower  \\\n",
       "49     1.414269e+06  1.414269e+06    9.915222e+04          9.915222e+04   \n",
       "50     1.436003e+06  1.436003e+06    8.921970e+04          8.921970e+04   \n",
       "139    4.482451e+06  4.482451e+06    1.025230e+06          1.025230e+06   \n",
       "140    4.604341e+06  4.604341e+06    1.149124e+06          1.149124e+06   \n",
       "229    2.669853e+07  2.669853e+07   -4.535899e+06         -4.535899e+06   \n",
       "...             ...           ...             ...                   ...   \n",
       "19236  4.565131e+08  4.565131e+08   -3.157381e+06         -3.157381e+06   \n",
       "19326  7.100872e+05  7.100872e+05    2.920004e+06          2.920004e+06   \n",
       "19327  7.194968e+05  7.194968e+05    2.928404e+06          2.928404e+06   \n",
       "19416  1.174671e+06  1.174671e+06    1.098231e+07          1.098231e+07   \n",
       "19417  1.258027e+06  1.258027e+06    1.102429e+07          1.102429e+07   \n",
       "\n",
       "       additive_terms_upper        yearly  yearly_lower  yearly_upper  \\\n",
       "49             9.915222e+04  9.915222e+04  9.915222e+04  9.915222e+04   \n",
       "50             8.921970e+04  8.921970e+04  8.921970e+04  8.921970e+04   \n",
       "139            1.025230e+06  1.025230e+06  1.025230e+06  1.025230e+06   \n",
       "140            1.149124e+06  1.149124e+06  1.149124e+06  1.149124e+06   \n",
       "229           -4.535899e+06 -4.535899e+06 -4.535899e+06 -4.535899e+06   \n",
       "...                     ...           ...           ...           ...   \n",
       "19236         -3.157381e+06 -3.157381e+06 -3.157381e+06 -3.157381e+06   \n",
       "19326          2.920004e+06  2.920004e+06  2.920004e+06  2.920004e+06   \n",
       "19327          2.928404e+06  2.928404e+06  2.928404e+06  2.928404e+06   \n",
       "19416          1.098231e+07  1.098231e+07  1.098231e+07  1.098231e+07   \n",
       "19417          1.102429e+07  1.102429e+07  1.102429e+07  1.102429e+07   \n",
       "\n",
       "       multiplicative_terms  multiplicative_terms_lower  \\\n",
       "49                      0.0                         0.0   \n",
       "50                      0.0                         0.0   \n",
       "139                     0.0                         0.0   \n",
       "140                     0.0                         0.0   \n",
       "229                     0.0                         0.0   \n",
       "...                     ...                         ...   \n",
       "19236                   0.0                         0.0   \n",
       "19326                   0.0                         0.0   \n",
       "19327                   0.0                         0.0   \n",
       "19416                   0.0                         0.0   \n",
       "19417                   0.0                         0.0   \n",
       "\n",
       "       multiplicative_terms_upper  Annual CO2 emissions_predicted  \\\n",
       "49                            0.0                    1.513421e+06   \n",
       "50                            0.0                    1.525223e+06   \n",
       "139                           0.0                    5.507682e+06   \n",
       "140                           0.0                    5.753465e+06   \n",
       "229                           0.0                    2.216263e+07   \n",
       "...                           ...                             ...   \n",
       "19236                         0.0                    4.533557e+08   \n",
       "19326                         0.0                    3.630091e+06   \n",
       "19327                         0.0                    3.647901e+06   \n",
       "19416                         0.0                    1.215698e+07   \n",
       "19417                         0.0                    1.228231e+07   \n",
       "\n",
       "             Entity Entity_Category  \n",
       "49            Aruba         Country  \n",
       "50            Aruba         Country  \n",
       "139     Afghanistan         Country  \n",
       "140     Afghanistan         Country  \n",
       "229          Angola         Country  \n",
       "...             ...             ...  \n",
       "19236  South Africa         Country  \n",
       "19326        Zambia         Country  \n",
       "19327        Zambia         Country  \n",
       "19416      Zimbabwe         Country  \n",
       "19417      Zimbabwe         Country  \n",
       "\n",
       "[444 rows x 19 columns]"
      ]
     },
     "execution_count": 38,
     "metadata": {},
     "output_type": "execute_result"
    }
   ],
   "source": [
    "df_final.loc[df_final['Year'].isin([2010, 2011])]"
   ]
  },
  {
   "cell_type": "code",
   "execution_count": 40,
   "id": "7aa42322-71ee-470d-a399-4690e1b31cb5",
   "metadata": {},
   "outputs": [
    {
     "data": {
      "text/plain": [
       "[2021, 2022, 2023, 2024, 2025, 2026, 2027, 2028, 2029, 2030]"
      ]
     },
     "execution_count": 40,
     "metadata": {},
     "output_type": "execute_result"
    }
   ],
   "source": [
    "[2021+x for x in range(10)]"
   ]
  },
  {
   "cell_type": "code",
   "execution_count": 47,
   "id": "f3ff048b-1294-44f6-bdc3-ca551ec86e05",
   "metadata": {},
   "outputs": [],
   "source": [
    "def calculate_x_years_forecast_sum(frame, n_years, start_year=2021):\n",
    "    year_list = [start_year+x for x in range(n_years)]\n",
    "    \n",
    "    frame = frame.loc[frame['Year'].isin(year_list)]\n",
    "    \n",
    "    return frame.groupby('Entity')[f'{y}_predicted'].sum()"
   ]
  },
  {
   "cell_type": "code",
   "execution_count": 54,
   "id": "d2f193f1-c58a-4f47-a73c-be387cbc0cd6",
   "metadata": {},
   "outputs": [
    {
     "data": {
      "text/plain": [
       "Entity\n",
       "Afghanistan          7.812264e+07\n",
       "Albania              4.483901e+07\n",
       "Algeria              1.826159e+09\n",
       "Andorra              4.257528e+06\n",
       "Angola               3.666501e+08\n",
       "                         ...     \n",
       "Wallis And Futuna    2.519330e+05\n",
       "World                4.504659e+11\n",
       "Yemen                2.212880e+08\n",
       "Zambia               3.845097e+07\n",
       "Zimbabwe             1.440840e+08\n",
       "Name: Annual CO2 emissions_predicted, Length: 221, dtype: float64"
      ]
     },
     "execution_count": 54,
     "metadata": {},
     "output_type": "execute_result"
    }
   ],
   "source": [
    "forecast_sum"
   ]
  },
  {
   "cell_type": "code",
   "execution_count": 53,
   "id": "272d5f58-b7cc-46ac-b7e6-df7d741c1722",
   "metadata": {},
   "outputs": [
    {
     "ename": "ValueError",
     "evalue": "columns overlap but no suffix specified: Index(['Annual CO2 emissions_predicted'], dtype='object')",
     "output_type": "error",
     "traceback": [
      "\u001b[1;31m---------------------------------------------------------------------------\u001b[0m",
      "\u001b[1;31mValueError\u001b[0m                                Traceback (most recent call last)",
      "Cell \u001b[1;32mIn [53], line 7\u001b[0m\n\u001b[0;32m      1\u001b[0m forecast_sum \u001b[38;5;241m=\u001b[39m calculate_x_years_forecast_sum(\n\u001b[0;32m      2\u001b[0m     df_final\u001b[38;5;241m.\u001b[39mset_index(\u001b[38;5;124m'\u001b[39m\u001b[38;5;124mEntity\u001b[39m\u001b[38;5;124m'\u001b[39m)[[\u001b[38;5;124mf\u001b[39m\u001b[38;5;124m'\u001b[39m\u001b[38;5;132;01m{\u001b[39;00my\u001b[38;5;132;01m}\u001b[39;00m\u001b[38;5;124m_predicted\u001b[39m\u001b[38;5;124m'\u001b[39m, \u001b[38;5;124m'\u001b[39m\u001b[38;5;124mYear\u001b[39m\u001b[38;5;124m'\u001b[39m]],\n\u001b[0;32m      3\u001b[0m     \u001b[38;5;241m10\u001b[39m,\n\u001b[0;32m      4\u001b[0m     \u001b[38;5;241m2021\u001b[39m\n\u001b[0;32m      5\u001b[0m )\n\u001b[1;32m----> 7\u001b[0m \u001b[43mdf_final\u001b[49m\u001b[38;5;241;43m.\u001b[39;49m\u001b[43mjoin\u001b[49m\u001b[43m(\u001b[49m\u001b[43mforecast_sum\u001b[49m\u001b[43m,\u001b[49m\u001b[43m \u001b[49m\u001b[43mon\u001b[49m\u001b[38;5;241;43m=\u001b[39;49m\u001b[38;5;124;43m'\u001b[39;49m\u001b[38;5;124;43mEntity\u001b[39;49m\u001b[38;5;124;43m'\u001b[39;49m\u001b[43m)\u001b[49m\n",
      "File \u001b[1;32m~\\Anaconda3\\envs\\ds1\\lib\\site-packages\\pandas\\core\\frame.py:9263\u001b[0m, in \u001b[0;36mDataFrame.join\u001b[1;34m(self, other, on, how, lsuffix, rsuffix, sort)\u001b[0m\n\u001b[0;32m   9109\u001b[0m \u001b[38;5;28;01mdef\u001b[39;00m \u001b[38;5;21mjoin\u001b[39m(\n\u001b[0;32m   9110\u001b[0m     \u001b[38;5;28mself\u001b[39m,\n\u001b[0;32m   9111\u001b[0m     other: DataFrame \u001b[38;5;241m|\u001b[39m Series,\n\u001b[1;32m   (...)\u001b[0m\n\u001b[0;32m   9116\u001b[0m     sort: \u001b[38;5;28mbool\u001b[39m \u001b[38;5;241m=\u001b[39m \u001b[38;5;28;01mFalse\u001b[39;00m,\n\u001b[0;32m   9117\u001b[0m ) \u001b[38;5;241m-\u001b[39m\u001b[38;5;241m>\u001b[39m DataFrame:\n\u001b[0;32m   9118\u001b[0m     \u001b[38;5;124;03m\"\"\"\u001b[39;00m\n\u001b[0;32m   9119\u001b[0m \u001b[38;5;124;03m    Join columns of another DataFrame.\u001b[39;00m\n\u001b[0;32m   9120\u001b[0m \n\u001b[1;32m   (...)\u001b[0m\n\u001b[0;32m   9261\u001b[0m \u001b[38;5;124;03m    5  K1  A5   B1\u001b[39;00m\n\u001b[0;32m   9262\u001b[0m \u001b[38;5;124;03m    \"\"\"\u001b[39;00m\n\u001b[1;32m-> 9263\u001b[0m     \u001b[38;5;28;01mreturn\u001b[39;00m \u001b[38;5;28;43mself\u001b[39;49m\u001b[38;5;241;43m.\u001b[39;49m\u001b[43m_join_compat\u001b[49m\u001b[43m(\u001b[49m\n\u001b[0;32m   9264\u001b[0m \u001b[43m        \u001b[49m\u001b[43mother\u001b[49m\u001b[43m,\u001b[49m\u001b[43m \u001b[49m\u001b[43mon\u001b[49m\u001b[38;5;241;43m=\u001b[39;49m\u001b[43mon\u001b[49m\u001b[43m,\u001b[49m\u001b[43m \u001b[49m\u001b[43mhow\u001b[49m\u001b[38;5;241;43m=\u001b[39;49m\u001b[43mhow\u001b[49m\u001b[43m,\u001b[49m\u001b[43m \u001b[49m\u001b[43mlsuffix\u001b[49m\u001b[38;5;241;43m=\u001b[39;49m\u001b[43mlsuffix\u001b[49m\u001b[43m,\u001b[49m\u001b[43m \u001b[49m\u001b[43mrsuffix\u001b[49m\u001b[38;5;241;43m=\u001b[39;49m\u001b[43mrsuffix\u001b[49m\u001b[43m,\u001b[49m\u001b[43m \u001b[49m\u001b[43msort\u001b[49m\u001b[38;5;241;43m=\u001b[39;49m\u001b[43msort\u001b[49m\n\u001b[0;32m   9265\u001b[0m \u001b[43m    \u001b[49m\u001b[43m)\u001b[49m\n",
      "File \u001b[1;32m~\\Anaconda3\\envs\\ds1\\lib\\site-packages\\pandas\\core\\frame.py:9294\u001b[0m, in \u001b[0;36mDataFrame._join_compat\u001b[1;34m(self, other, on, how, lsuffix, rsuffix, sort)\u001b[0m\n\u001b[0;32m   9285\u001b[0m     \u001b[38;5;28;01mif\u001b[39;00m how \u001b[38;5;241m==\u001b[39m \u001b[38;5;124m\"\u001b[39m\u001b[38;5;124mcross\u001b[39m\u001b[38;5;124m\"\u001b[39m:\n\u001b[0;32m   9286\u001b[0m         \u001b[38;5;28;01mreturn\u001b[39;00m merge(\n\u001b[0;32m   9287\u001b[0m             \u001b[38;5;28mself\u001b[39m,\n\u001b[0;32m   9288\u001b[0m             other,\n\u001b[1;32m   (...)\u001b[0m\n\u001b[0;32m   9292\u001b[0m             sort\u001b[38;5;241m=\u001b[39msort,\n\u001b[0;32m   9293\u001b[0m         )\n\u001b[1;32m-> 9294\u001b[0m     \u001b[38;5;28;01mreturn\u001b[39;00m \u001b[43mmerge\u001b[49m\u001b[43m(\u001b[49m\n\u001b[0;32m   9295\u001b[0m \u001b[43m        \u001b[49m\u001b[38;5;28;43mself\u001b[39;49m\u001b[43m,\u001b[49m\n\u001b[0;32m   9296\u001b[0m \u001b[43m        \u001b[49m\u001b[43mother\u001b[49m\u001b[43m,\u001b[49m\n\u001b[0;32m   9297\u001b[0m \u001b[43m        \u001b[49m\u001b[43mleft_on\u001b[49m\u001b[38;5;241;43m=\u001b[39;49m\u001b[43mon\u001b[49m\u001b[43m,\u001b[49m\n\u001b[0;32m   9298\u001b[0m \u001b[43m        \u001b[49m\u001b[43mhow\u001b[49m\u001b[38;5;241;43m=\u001b[39;49m\u001b[43mhow\u001b[49m\u001b[43m,\u001b[49m\n\u001b[0;32m   9299\u001b[0m \u001b[43m        \u001b[49m\u001b[43mleft_index\u001b[49m\u001b[38;5;241;43m=\u001b[39;49m\u001b[43mon\u001b[49m\u001b[43m \u001b[49m\u001b[38;5;129;43;01mis\u001b[39;49;00m\u001b[43m \u001b[49m\u001b[38;5;28;43;01mNone\u001b[39;49;00m\u001b[43m,\u001b[49m\n\u001b[0;32m   9300\u001b[0m \u001b[43m        \u001b[49m\u001b[43mright_index\u001b[49m\u001b[38;5;241;43m=\u001b[39;49m\u001b[38;5;28;43;01mTrue\u001b[39;49;00m\u001b[43m,\u001b[49m\n\u001b[0;32m   9301\u001b[0m \u001b[43m        \u001b[49m\u001b[43msuffixes\u001b[49m\u001b[38;5;241;43m=\u001b[39;49m\u001b[43m(\u001b[49m\u001b[43mlsuffix\u001b[49m\u001b[43m,\u001b[49m\u001b[43m \u001b[49m\u001b[43mrsuffix\u001b[49m\u001b[43m)\u001b[49m\u001b[43m,\u001b[49m\n\u001b[0;32m   9302\u001b[0m \u001b[43m        \u001b[49m\u001b[43msort\u001b[49m\u001b[38;5;241;43m=\u001b[39;49m\u001b[43msort\u001b[49m\u001b[43m,\u001b[49m\n\u001b[0;32m   9303\u001b[0m \u001b[43m    \u001b[49m\u001b[43m)\u001b[49m\n\u001b[0;32m   9304\u001b[0m \u001b[38;5;28;01melse\u001b[39;00m:\n\u001b[0;32m   9305\u001b[0m     \u001b[38;5;28;01mif\u001b[39;00m on \u001b[38;5;129;01mis\u001b[39;00m \u001b[38;5;129;01mnot\u001b[39;00m \u001b[38;5;28;01mNone\u001b[39;00m:\n",
      "File \u001b[1;32m~\\Anaconda3\\envs\\ds1\\lib\\site-packages\\pandas\\core\\reshape\\merge.py:122\u001b[0m, in \u001b[0;36mmerge\u001b[1;34m(left, right, how, on, left_on, right_on, left_index, right_index, sort, suffixes, copy, indicator, validate)\u001b[0m\n\u001b[0;32m     90\u001b[0m \u001b[38;5;129m@Substitution\u001b[39m(\u001b[38;5;124m\"\u001b[39m\u001b[38;5;130;01m\\n\u001b[39;00m\u001b[38;5;124mleft : DataFrame or named Series\u001b[39m\u001b[38;5;124m\"\u001b[39m)\n\u001b[0;32m     91\u001b[0m \u001b[38;5;129m@Appender\u001b[39m(_merge_doc, indents\u001b[38;5;241m=\u001b[39m\u001b[38;5;241m0\u001b[39m)\n\u001b[0;32m     92\u001b[0m \u001b[38;5;28;01mdef\u001b[39;00m \u001b[38;5;21mmerge\u001b[39m(\n\u001b[1;32m   (...)\u001b[0m\n\u001b[0;32m    105\u001b[0m     validate: \u001b[38;5;28mstr\u001b[39m \u001b[38;5;241m|\u001b[39m \u001b[38;5;28;01mNone\u001b[39;00m \u001b[38;5;241m=\u001b[39m \u001b[38;5;28;01mNone\u001b[39;00m,\n\u001b[0;32m    106\u001b[0m ) \u001b[38;5;241m-\u001b[39m\u001b[38;5;241m>\u001b[39m DataFrame:\n\u001b[0;32m    107\u001b[0m     op \u001b[38;5;241m=\u001b[39m _MergeOperation(\n\u001b[0;32m    108\u001b[0m         left,\n\u001b[0;32m    109\u001b[0m         right,\n\u001b[1;32m   (...)\u001b[0m\n\u001b[0;32m    120\u001b[0m         validate\u001b[38;5;241m=\u001b[39mvalidate,\n\u001b[0;32m    121\u001b[0m     )\n\u001b[1;32m--> 122\u001b[0m     \u001b[38;5;28;01mreturn\u001b[39;00m \u001b[43mop\u001b[49m\u001b[38;5;241;43m.\u001b[39;49m\u001b[43mget_result\u001b[49m\u001b[43m(\u001b[49m\u001b[43m)\u001b[49m\n",
      "File \u001b[1;32m~\\Anaconda3\\envs\\ds1\\lib\\site-packages\\pandas\\core\\reshape\\merge.py:718\u001b[0m, in \u001b[0;36m_MergeOperation.get_result\u001b[1;34m(self)\u001b[0m\n\u001b[0;32m    714\u001b[0m     \u001b[38;5;28mself\u001b[39m\u001b[38;5;241m.\u001b[39mleft, \u001b[38;5;28mself\u001b[39m\u001b[38;5;241m.\u001b[39mright \u001b[38;5;241m=\u001b[39m \u001b[38;5;28mself\u001b[39m\u001b[38;5;241m.\u001b[39m_indicator_pre_merge(\u001b[38;5;28mself\u001b[39m\u001b[38;5;241m.\u001b[39mleft, \u001b[38;5;28mself\u001b[39m\u001b[38;5;241m.\u001b[39mright)\n\u001b[0;32m    716\u001b[0m join_index, left_indexer, right_indexer \u001b[38;5;241m=\u001b[39m \u001b[38;5;28mself\u001b[39m\u001b[38;5;241m.\u001b[39m_get_join_info()\n\u001b[1;32m--> 718\u001b[0m llabels, rlabels \u001b[38;5;241m=\u001b[39m \u001b[43m_items_overlap_with_suffix\u001b[49m\u001b[43m(\u001b[49m\n\u001b[0;32m    719\u001b[0m \u001b[43m    \u001b[49m\u001b[38;5;28;43mself\u001b[39;49m\u001b[38;5;241;43m.\u001b[39;49m\u001b[43mleft\u001b[49m\u001b[38;5;241;43m.\u001b[39;49m\u001b[43m_info_axis\u001b[49m\u001b[43m,\u001b[49m\u001b[43m \u001b[49m\u001b[38;5;28;43mself\u001b[39;49m\u001b[38;5;241;43m.\u001b[39;49m\u001b[43mright\u001b[49m\u001b[38;5;241;43m.\u001b[39;49m\u001b[43m_info_axis\u001b[49m\u001b[43m,\u001b[49m\u001b[43m \u001b[49m\u001b[38;5;28;43mself\u001b[39;49m\u001b[38;5;241;43m.\u001b[39;49m\u001b[43msuffixes\u001b[49m\n\u001b[0;32m    720\u001b[0m \u001b[43m\u001b[49m\u001b[43m)\u001b[49m\n\u001b[0;32m    722\u001b[0m lindexers \u001b[38;5;241m=\u001b[39m {\u001b[38;5;241m1\u001b[39m: left_indexer} \u001b[38;5;28;01mif\u001b[39;00m left_indexer \u001b[38;5;129;01mis\u001b[39;00m \u001b[38;5;129;01mnot\u001b[39;00m \u001b[38;5;28;01mNone\u001b[39;00m \u001b[38;5;28;01melse\u001b[39;00m {}\n\u001b[0;32m    723\u001b[0m rindexers \u001b[38;5;241m=\u001b[39m {\u001b[38;5;241m1\u001b[39m: right_indexer} \u001b[38;5;28;01mif\u001b[39;00m right_indexer \u001b[38;5;129;01mis\u001b[39;00m \u001b[38;5;129;01mnot\u001b[39;00m \u001b[38;5;28;01mNone\u001b[39;00m \u001b[38;5;28;01melse\u001b[39;00m {}\n",
      "File \u001b[1;32m~\\Anaconda3\\envs\\ds1\\lib\\site-packages\\pandas\\core\\reshape\\merge.py:2317\u001b[0m, in \u001b[0;36m_items_overlap_with_suffix\u001b[1;34m(left, right, suffixes)\u001b[0m\n\u001b[0;32m   2314\u001b[0m lsuffix, rsuffix \u001b[38;5;241m=\u001b[39m suffixes\n\u001b[0;32m   2316\u001b[0m \u001b[38;5;28;01mif\u001b[39;00m \u001b[38;5;129;01mnot\u001b[39;00m lsuffix \u001b[38;5;129;01mand\u001b[39;00m \u001b[38;5;129;01mnot\u001b[39;00m rsuffix:\n\u001b[1;32m-> 2317\u001b[0m     \u001b[38;5;28;01mraise\u001b[39;00m \u001b[38;5;167;01mValueError\u001b[39;00m(\u001b[38;5;124mf\u001b[39m\u001b[38;5;124m\"\u001b[39m\u001b[38;5;124mcolumns overlap but no suffix specified: \u001b[39m\u001b[38;5;132;01m{\u001b[39;00mto_rename\u001b[38;5;132;01m}\u001b[39;00m\u001b[38;5;124m\"\u001b[39m)\n\u001b[0;32m   2319\u001b[0m \u001b[38;5;28;01mdef\u001b[39;00m \u001b[38;5;21mrenamer\u001b[39m(x, suffix):\n\u001b[0;32m   2320\u001b[0m     \u001b[38;5;124;03m\"\"\"\u001b[39;00m\n\u001b[0;32m   2321\u001b[0m \u001b[38;5;124;03m    Rename the left and right indices.\u001b[39;00m\n\u001b[0;32m   2322\u001b[0m \n\u001b[1;32m   (...)\u001b[0m\n\u001b[0;32m   2333\u001b[0m \u001b[38;5;124;03m    x : renamed column name\u001b[39;00m\n\u001b[0;32m   2334\u001b[0m \u001b[38;5;124;03m    \"\"\"\u001b[39;00m\n",
      "\u001b[1;31mValueError\u001b[0m: columns overlap but no suffix specified: Index(['Annual CO2 emissions_predicted'], dtype='object')"
     ]
    }
   ],
   "source": [
    "forecast_sum = calculate_x_years_forecast_sum(\n",
    "    df_final.set_index('Entity')[[f'{y}_predicted', 'Year']],\n",
    "    10,\n",
    "    2021\n",
    ")\n",
    "\n",
    "forecast_sum = forecast_sum.rename(f'{y}_predicted_10')\n",
    "\n",
    "df_final.join(forecast_sum, on='Entity')"
   ]
  },
  {
   "cell_type": "code",
   "execution_count": 51,
   "id": "dc3b4004-fd75-49db-adca-962c9ad36b30",
   "metadata": {},
   "outputs": [
    {
     "data": {
      "text/html": [
       "<div>\n",
       "<style scoped>\n",
       "    .dataframe tbody tr th:only-of-type {\n",
       "        vertical-align: middle;\n",
       "    }\n",
       "\n",
       "    .dataframe tbody tr th {\n",
       "        vertical-align: top;\n",
       "    }\n",
       "\n",
       "    .dataframe thead th {\n",
       "        text-align: right;\n",
       "    }\n",
       "</style>\n",
       "<table border=\"1\" class=\"dataframe\">\n",
       "  <thead>\n",
       "    <tr style=\"text-align: right;\">\n",
       "      <th></th>\n",
       "      <th>Year</th>\n",
       "      <th>Annual CO2 emissions</th>\n",
       "      <th>trend</th>\n",
       "      <th>yhat_lower</th>\n",
       "      <th>yhat_upper</th>\n",
       "      <th>trend_lower</th>\n",
       "      <th>trend_upper</th>\n",
       "      <th>additive_terms</th>\n",
       "      <th>additive_terms_lower</th>\n",
       "      <th>additive_terms_upper</th>\n",
       "      <th>yearly</th>\n",
       "      <th>yearly_lower</th>\n",
       "      <th>yearly_upper</th>\n",
       "      <th>multiplicative_terms</th>\n",
       "      <th>multiplicative_terms_lower</th>\n",
       "      <th>multiplicative_terms_upper</th>\n",
       "      <th>Annual CO2 emissions_predicted</th>\n",
       "      <th>Entity</th>\n",
       "      <th>Entity_Category</th>\n",
       "      <th>Annual CO2 emissions_predicted_next_10_sum</th>\n",
       "    </tr>\n",
       "  </thead>\n",
       "  <tbody>\n",
       "    <tr>\n",
       "      <th>0</th>\n",
       "      <td>1961</td>\n",
       "      <td>645553.0</td>\n",
       "      <td>348572.950385</td>\n",
       "      <td>-392061.276763</td>\n",
       "      <td>1.326828e+06</td>\n",
       "      <td>348572.950385</td>\n",
       "      <td>348572.950385</td>\n",
       "      <td>115998.488548</td>\n",
       "      <td>115998.488548</td>\n",
       "      <td>115998.488548</td>\n",
       "      <td>115998.488548</td>\n",
       "      <td>115998.488548</td>\n",
       "      <td>115998.488548</td>\n",
       "      <td>0.0</td>\n",
       "      <td>0.0</td>\n",
       "      <td>0.0</td>\n",
       "      <td>464571.438933</td>\n",
       "      <td>Aruba</td>\n",
       "      <td>Country</td>\n",
       "      <td>NaN</td>\n",
       "    </tr>\n",
       "    <tr>\n",
       "      <th>1</th>\n",
       "      <td>1962</td>\n",
       "      <td>708942.0</td>\n",
       "      <td>370307.263601</td>\n",
       "      <td>-374778.972297</td>\n",
       "      <td>1.302761e+06</td>\n",
       "      <td>370307.263601</td>\n",
       "      <td>370307.263601</td>\n",
       "      <td>99152.215880</td>\n",
       "      <td>99152.215880</td>\n",
       "      <td>99152.215880</td>\n",
       "      <td>99152.215880</td>\n",
       "      <td>99152.215880</td>\n",
       "      <td>99152.215880</td>\n",
       "      <td>0.0</td>\n",
       "      <td>0.0</td>\n",
       "      <td>0.0</td>\n",
       "      <td>469459.479482</td>\n",
       "      <td>Aruba</td>\n",
       "      <td>Country</td>\n",
       "      <td>NaN</td>\n",
       "    </tr>\n",
       "    <tr>\n",
       "      <th>2</th>\n",
       "      <td>1963</td>\n",
       "      <td>679088.0</td>\n",
       "      <td>392041.576818</td>\n",
       "      <td>-392316.399390</td>\n",
       "      <td>1.359247e+06</td>\n",
       "      <td>392041.576818</td>\n",
       "      <td>392041.576818</td>\n",
       "      <td>89219.703262</td>\n",
       "      <td>89219.703262</td>\n",
       "      <td>89219.703262</td>\n",
       "      <td>89219.703262</td>\n",
       "      <td>89219.703262</td>\n",
       "      <td>89219.703262</td>\n",
       "      <td>0.0</td>\n",
       "      <td>0.0</td>\n",
       "      <td>0.0</td>\n",
       "      <td>481261.280081</td>\n",
       "      <td>Aruba</td>\n",
       "      <td>Country</td>\n",
       "      <td>NaN</td>\n",
       "    </tr>\n",
       "    <tr>\n",
       "      <th>3</th>\n",
       "      <td>1964</td>\n",
       "      <td>660275.0</td>\n",
       "      <td>413775.890031</td>\n",
       "      <td>-382731.039051</td>\n",
       "      <td>1.356004e+06</td>\n",
       "      <td>413775.890031</td>\n",
       "      <td>413775.890031</td>\n",
       "      <td>86213.095529</td>\n",
       "      <td>86213.095529</td>\n",
       "      <td>86213.095529</td>\n",
       "      <td>86213.095529</td>\n",
       "      <td>86213.095529</td>\n",
       "      <td>86213.095529</td>\n",
       "      <td>0.0</td>\n",
       "      <td>0.0</td>\n",
       "      <td>0.0</td>\n",
       "      <td>499988.985560</td>\n",
       "      <td>Aruba</td>\n",
       "      <td>Country</td>\n",
       "      <td>NaN</td>\n",
       "    </tr>\n",
       "    <tr>\n",
       "      <th>4</th>\n",
       "      <td>1965</td>\n",
       "      <td>592387.0</td>\n",
       "      <td>435569.749307</td>\n",
       "      <td>-292298.458799</td>\n",
       "      <td>1.385045e+06</td>\n",
       "      <td>435569.749307</td>\n",
       "      <td>435569.749307</td>\n",
       "      <td>115998.488548</td>\n",
       "      <td>115998.488548</td>\n",
       "      <td>115998.488548</td>\n",
       "      <td>115998.488548</td>\n",
       "      <td>115998.488548</td>\n",
       "      <td>115998.488548</td>\n",
       "      <td>0.0</td>\n",
       "      <td>0.0</td>\n",
       "      <td>0.0</td>\n",
       "      <td>551568.237855</td>\n",
       "      <td>Aruba</td>\n",
       "      <td>Country</td>\n",
       "      <td>NaN</td>\n",
       "    </tr>\n",
       "  </tbody>\n",
       "</table>\n",
       "</div>"
      ],
      "text/plain": [
       "   Year  Annual CO2 emissions          trend     yhat_lower    yhat_upper  \\\n",
       "0  1961              645553.0  348572.950385 -392061.276763  1.326828e+06   \n",
       "1  1962              708942.0  370307.263601 -374778.972297  1.302761e+06   \n",
       "2  1963              679088.0  392041.576818 -392316.399390  1.359247e+06   \n",
       "3  1964              660275.0  413775.890031 -382731.039051  1.356004e+06   \n",
       "4  1965              592387.0  435569.749307 -292298.458799  1.385045e+06   \n",
       "\n",
       "     trend_lower    trend_upper  additive_terms  additive_terms_lower  \\\n",
       "0  348572.950385  348572.950385   115998.488548         115998.488548   \n",
       "1  370307.263601  370307.263601    99152.215880          99152.215880   \n",
       "2  392041.576818  392041.576818    89219.703262          89219.703262   \n",
       "3  413775.890031  413775.890031    86213.095529          86213.095529   \n",
       "4  435569.749307  435569.749307   115998.488548         115998.488548   \n",
       "\n",
       "   additive_terms_upper         yearly   yearly_lower   yearly_upper  \\\n",
       "0         115998.488548  115998.488548  115998.488548  115998.488548   \n",
       "1          99152.215880   99152.215880   99152.215880   99152.215880   \n",
       "2          89219.703262   89219.703262   89219.703262   89219.703262   \n",
       "3          86213.095529   86213.095529   86213.095529   86213.095529   \n",
       "4         115998.488548  115998.488548  115998.488548  115998.488548   \n",
       "\n",
       "   multiplicative_terms  multiplicative_terms_lower  \\\n",
       "0                   0.0                         0.0   \n",
       "1                   0.0                         0.0   \n",
       "2                   0.0                         0.0   \n",
       "3                   0.0                         0.0   \n",
       "4                   0.0                         0.0   \n",
       "\n",
       "   multiplicative_terms_upper  Annual CO2 emissions_predicted Entity  \\\n",
       "0                         0.0                   464571.438933  Aruba   \n",
       "1                         0.0                   469459.479482  Aruba   \n",
       "2                         0.0                   481261.280081  Aruba   \n",
       "3                         0.0                   499988.985560  Aruba   \n",
       "4                         0.0                   551568.237855  Aruba   \n",
       "\n",
       "  Entity_Category  Annual CO2 emissions_predicted_next_10_sum  \n",
       "0         Country                                         NaN  \n",
       "1         Country                                         NaN  \n",
       "2         Country                                         NaN  \n",
       "3         Country                                         NaN  \n",
       "4         Country                                         NaN  "
      ]
     },
     "execution_count": 51,
     "metadata": {},
     "output_type": "execute_result"
    }
   ],
   "source": [
    "df_final.head()"
   ]
  },
  {
   "cell_type": "code",
   "execution_count": 32,
   "id": "1d3969ab-a688-4a40-a7a0-5aaabb9fc335",
   "metadata": {},
   "outputs": [
    {
     "data": {
      "text/plain": [
       "Libya                91\n",
       "Equatorial Guinea    91\n",
       "Luxembourg           91\n",
       "Latvia               91\n",
       "Morocco              91\n",
       "                     ..\n",
       "Eritrea              57\n",
       "Kosovo               51\n",
       "Wallis And Futuna    50\n",
       "Timor                49\n",
       "Christmas Island     44\n",
       "Name: Entity, Length: 222, dtype: int64"
      ]
     },
     "execution_count": 32,
     "metadata": {},
     "output_type": "execute_result"
    }
   ],
   "source": [
    "df_final['Entity'].value_counts()"
   ]
  },
  {
   "cell_type": "code",
   "execution_count": 32,
   "id": "a4f3bfda-da0e-4337-a4d6-ff9345da181c",
   "metadata": {},
   "outputs": [
    {
     "data": {
      "text/plain": [
       "Libya                91\n",
       "Equatorial Guinea    91\n",
       "Luxembourg           91\n",
       "Latvia               91\n",
       "Morocco              91\n",
       "                     ..\n",
       "Eritrea              57\n",
       "Kosovo               51\n",
       "Wallis And Futuna    50\n",
       "Timor                49\n",
       "Christmas Island     44\n",
       "Name: Entity, Length: 222, dtype: int64"
      ]
     },
     "execution_count": 32,
     "metadata": {},
     "output_type": "execute_result"
    }
   ],
   "source": [
    "df_final['Entity'].value_counts()"
   ]
  },
  {
   "cell_type": "markdown",
   "id": "785ee354-10c4-45b8-81d4-0bca436f20fa",
   "metadata": {},
   "source": [
    "## Save Tables"
   ]
  },
  {
   "cell_type": "code",
   "execution_count": 25,
   "id": "2bcba0a9-4127-4c26-9dec-4743d4b97b0d",
   "metadata": {},
   "outputs": [],
   "source": [
    "df_final.to_csv('../data/forecasts_tables/all_entities_forecasts.csv', index=False)"
   ]
  },
  {
   "cell_type": "code",
   "execution_count": null,
   "id": "f996b299-1103-4464-8ad9-0b7a949003a7",
   "metadata": {},
   "outputs": [],
   "source": []
  }
 ],
 "metadata": {
  "kernelspec": {
   "display_name": "Python 3 (ipykernel)",
   "language": "python",
   "name": "python3"
  },
  "language_info": {
   "codemirror_mode": {
    "name": "ipython",
    "version": 3
   },
   "file_extension": ".py",
   "mimetype": "text/x-python",
   "name": "python",
   "nbconvert_exporter": "python",
   "pygments_lexer": "ipython3",
   "version": "3.9.13"
  },
  "scenes_data": {
   "active_scene": "Default Scene",
   "init_scene": "",
   "scenes": [
    "Default Scene"
   ]
  },
  "vscode": {
   "interpreter": {
    "hash": "b59a5bc95ea837884ac6b30ff4c4e35df4c324dcfae3c61025a9a02fd547c221"
   }
  }
 },
 "nbformat": 4,
 "nbformat_minor": 5
}
