{
 "cells": [
  {
   "cell_type": "markdown",
   "id": "fa4d2883-f1ba-4d89-bf4e-ba0095078c09",
   "metadata": {
    "application/vnd.databricks.v1+cell": {
     "cellMetadata": {},
     "inputWidgets": {},
     "nuid": "867f699c-680f-4f59-aa22-70675ada2ebf",
     "showTitle": false,
     "title": ""
    },
    "tags": []
   },
   "source": [
    "# Foreacasting - Metric Per Entity"
   ]
  },
  {
   "cell_type": "markdown",
   "id": "fd44b017-1c83-49bb-84fd-f87b90780fc1",
   "metadata": {
    "application/vnd.databricks.v1+cell": {
     "cellMetadata": {},
     "inputWidgets": {},
     "nuid": "dba169ca-ec04-4c18-a7d6-e35f6feae429",
     "showTitle": false,
     "title": ""
    }
   },
   "source": [
    "#### Version 1.0"
   ]
  },
  {
   "cell_type": "markdown",
   "id": "d5feb734-ead0-4b62-9c89-1781a84d42aa",
   "metadata": {
    "application/vnd.databricks.v1+cell": {
     "cellMetadata": {},
     "inputWidgets": {},
     "nuid": "d344c2f5-c5af-4840-ad7f-1b01e2e0ac79",
     "showTitle": false,
     "title": ""
    }
   },
   "source": [
    "### TODO\n",
    "\n",
    "- Read aggreated data\n",
    "- Forecast 30 years for metric per entity"
   ]
  },
  {
   "cell_type": "markdown",
   "id": "f94dfca7-9786-4043-bc77-57f23c303537",
   "metadata": {
    "application/vnd.databricks.v1+cell": {
     "cellMetadata": {},
     "inputWidgets": {},
     "nuid": "0c8d1109-81a0-41bb-9d15-5ae34609cd38",
     "showTitle": false,
     "title": ""
    }
   },
   "source": [
    "### Observations"
   ]
  },
  {
   "cell_type": "markdown",
   "id": "d31501e9-5196-4c7a-ae78-77a3d81d4386",
   "metadata": {
    "application/vnd.databricks.v1+cell": {
     "cellMetadata": {},
     "inputWidgets": {},
     "nuid": "eba0c848-a65b-4360-97db-7a3bd18efa56",
     "showTitle": false,
     "title": ""
    }
   },
   "source": [
    "## Setup"
   ]
  },
  {
   "cell_type": "markdown",
   "id": "ef715615-d105-4d69-b5a0-61b3ac40d388",
   "metadata": {
    "application/vnd.databricks.v1+cell": {
     "cellMetadata": {},
     "inputWidgets": {},
     "nuid": "d69a86cf-f419-4097-8978-bb775018b5af",
     "showTitle": false,
     "title": ""
    }
   },
   "source": [
    "### Import Packages"
   ]
  },
  {
   "cell_type": "code",
   "execution_count": 1,
   "id": "5a5008e5-69f5-4292-a8b1-8972f9281e46",
   "metadata": {
    "application/vnd.databricks.v1+cell": {
     "cellMetadata": {},
     "inputWidgets": {},
     "nuid": "de5e6b67-6f12-4869-94d1-d458976bdb3c",
     "showTitle": false,
     "title": ""
    }
   },
   "outputs": [
    {
     "ename": "FileNotFoundError",
     "evalue": "Could not find module 'C:\\Users\\abdul\\Anaconda3\\lib\\site-packages\\scipy\\.libs\\libbanded5x.4LIW6FJ2MYAF374XJSSB2KHHIEBRW45R.gfortran-win_amd64.dll' (or one of its dependencies). Try using the full path with constructor syntax.",
     "output_type": "error",
     "traceback": [
      "\u001b[1;31m---------------------------------------------------------------------------\u001b[0m",
      "\u001b[1;31mFileNotFoundError\u001b[0m                         Traceback (most recent call last)",
      "\u001b[1;32m~\\AppData\\Local\\Temp/ipykernel_18540/1192617679.py\u001b[0m in \u001b[0;36m<module>\u001b[1;34m\u001b[0m\n\u001b[0;32m      8\u001b[0m \u001b[1;33m\u001b[0m\u001b[0m\n\u001b[0;32m      9\u001b[0m \u001b[1;32mimport\u001b[0m \u001b[0mmatplotlib\u001b[0m\u001b[1;33m.\u001b[0m\u001b[0mpyplot\u001b[0m \u001b[1;32mas\u001b[0m \u001b[0mplt\u001b[0m\u001b[1;33m\u001b[0m\u001b[1;33m\u001b[0m\u001b[0m\n\u001b[1;32m---> 10\u001b[1;33m \u001b[1;32mimport\u001b[0m \u001b[0mseaborn\u001b[0m \u001b[1;32mas\u001b[0m \u001b[0msns\u001b[0m\u001b[1;33m\u001b[0m\u001b[1;33m\u001b[0m\u001b[0m\n\u001b[0m\u001b[0;32m     11\u001b[0m \u001b[1;32mimport\u001b[0m \u001b[0mplotly\u001b[0m\u001b[1;33m.\u001b[0m\u001b[0mexpress\u001b[0m \u001b[1;32mas\u001b[0m \u001b[0mpx\u001b[0m\u001b[1;33m\u001b[0m\u001b[1;33m\u001b[0m\u001b[0m\n\u001b[0;32m     12\u001b[0m \u001b[1;32mimport\u001b[0m \u001b[0mplotly\u001b[0m\u001b[1;33m.\u001b[0m\u001b[0mgraph_objects\u001b[0m \u001b[1;32mas\u001b[0m \u001b[0mgo\u001b[0m\u001b[1;33m\u001b[0m\u001b[1;33m\u001b[0m\u001b[0m\n",
      "\u001b[1;32m~\\Anaconda3\\lib\\site-packages\\seaborn\\__init__.py\u001b[0m in \u001b[0;36m<module>\u001b[1;34m\u001b[0m\n\u001b[0;32m      1\u001b[0m \u001b[1;31m# Import seaborn objects\u001b[0m\u001b[1;33m\u001b[0m\u001b[1;33m\u001b[0m\u001b[1;33m\u001b[0m\u001b[0m\n\u001b[1;32m----> 2\u001b[1;33m \u001b[1;32mfrom\u001b[0m \u001b[1;33m.\u001b[0m\u001b[0mrcmod\u001b[0m \u001b[1;32mimport\u001b[0m \u001b[1;33m*\u001b[0m  \u001b[1;31m# noqa: F401,F403\u001b[0m\u001b[1;33m\u001b[0m\u001b[1;33m\u001b[0m\u001b[0m\n\u001b[0m\u001b[0;32m      3\u001b[0m \u001b[1;32mfrom\u001b[0m \u001b[1;33m.\u001b[0m\u001b[0mutils\u001b[0m \u001b[1;32mimport\u001b[0m \u001b[1;33m*\u001b[0m  \u001b[1;31m# noqa: F401,F403\u001b[0m\u001b[1;33m\u001b[0m\u001b[1;33m\u001b[0m\u001b[0m\n\u001b[0;32m      4\u001b[0m \u001b[1;32mfrom\u001b[0m \u001b[1;33m.\u001b[0m\u001b[0mpalettes\u001b[0m \u001b[1;32mimport\u001b[0m \u001b[1;33m*\u001b[0m  \u001b[1;31m# noqa: F401,F403\u001b[0m\u001b[1;33m\u001b[0m\u001b[1;33m\u001b[0m\u001b[0m\n\u001b[0;32m      5\u001b[0m \u001b[1;32mfrom\u001b[0m \u001b[1;33m.\u001b[0m\u001b[0mrelational\u001b[0m \u001b[1;32mimport\u001b[0m \u001b[1;33m*\u001b[0m  \u001b[1;31m# noqa: F401,F403\u001b[0m\u001b[1;33m\u001b[0m\u001b[1;33m\u001b[0m\u001b[0m\n",
      "\u001b[1;32m~\\Anaconda3\\lib\\site-packages\\seaborn\\rcmod.py\u001b[0m in \u001b[0;36m<module>\u001b[1;34m\u001b[0m\n\u001b[0;32m      5\u001b[0m \u001b[1;32mimport\u001b[0m \u001b[0mmatplotlib\u001b[0m \u001b[1;32mas\u001b[0m \u001b[0mmpl\u001b[0m\u001b[1;33m\u001b[0m\u001b[1;33m\u001b[0m\u001b[0m\n\u001b[0;32m      6\u001b[0m \u001b[1;32mfrom\u001b[0m \u001b[0mcycler\u001b[0m \u001b[1;32mimport\u001b[0m \u001b[0mcycler\u001b[0m\u001b[1;33m\u001b[0m\u001b[1;33m\u001b[0m\u001b[0m\n\u001b[1;32m----> 7\u001b[1;33m \u001b[1;32mfrom\u001b[0m \u001b[1;33m.\u001b[0m \u001b[1;32mimport\u001b[0m \u001b[0mpalettes\u001b[0m\u001b[1;33m\u001b[0m\u001b[1;33m\u001b[0m\u001b[0m\n\u001b[0m\u001b[0;32m      8\u001b[0m \u001b[1;33m\u001b[0m\u001b[0m\n\u001b[0;32m      9\u001b[0m \u001b[1;33m\u001b[0m\u001b[0m\n",
      "\u001b[1;32m~\\Anaconda3\\lib\\site-packages\\seaborn\\palettes.py\u001b[0m in \u001b[0;36m<module>\u001b[1;34m\u001b[0m\n\u001b[0;32m      7\u001b[0m \u001b[1;32mfrom\u001b[0m \u001b[1;33m.\u001b[0m\u001b[0mexternal\u001b[0m \u001b[1;32mimport\u001b[0m \u001b[0mhusl\u001b[0m\u001b[1;33m\u001b[0m\u001b[1;33m\u001b[0m\u001b[0m\n\u001b[0;32m      8\u001b[0m \u001b[1;33m\u001b[0m\u001b[0m\n\u001b[1;32m----> 9\u001b[1;33m \u001b[1;32mfrom\u001b[0m \u001b[1;33m.\u001b[0m\u001b[0mutils\u001b[0m \u001b[1;32mimport\u001b[0m \u001b[0mdesaturate\u001b[0m\u001b[1;33m,\u001b[0m \u001b[0mget_color_cycle\u001b[0m\u001b[1;33m\u001b[0m\u001b[1;33m\u001b[0m\u001b[0m\n\u001b[0m\u001b[0;32m     10\u001b[0m \u001b[1;32mfrom\u001b[0m \u001b[1;33m.\u001b[0m\u001b[0mcolors\u001b[0m \u001b[1;32mimport\u001b[0m \u001b[0mxkcd_rgb\u001b[0m\u001b[1;33m,\u001b[0m \u001b[0mcrayons\u001b[0m\u001b[1;33m\u001b[0m\u001b[1;33m\u001b[0m\u001b[0m\n\u001b[0;32m     11\u001b[0m \u001b[1;33m\u001b[0m\u001b[0m\n",
      "\u001b[1;32m~\\Anaconda3\\lib\\site-packages\\seaborn\\utils.py\u001b[0m in \u001b[0;36m<module>\u001b[1;34m\u001b[0m\n\u001b[0;32m      8\u001b[0m \u001b[1;33m\u001b[0m\u001b[0m\n\u001b[0;32m      9\u001b[0m \u001b[1;32mimport\u001b[0m \u001b[0mnumpy\u001b[0m \u001b[1;32mas\u001b[0m \u001b[0mnp\u001b[0m\u001b[1;33m\u001b[0m\u001b[1;33m\u001b[0m\u001b[0m\n\u001b[1;32m---> 10\u001b[1;33m \u001b[1;32mfrom\u001b[0m \u001b[0mscipy\u001b[0m \u001b[1;32mimport\u001b[0m \u001b[0mstats\u001b[0m\u001b[1;33m\u001b[0m\u001b[1;33m\u001b[0m\u001b[0m\n\u001b[0m\u001b[0;32m     11\u001b[0m \u001b[1;32mimport\u001b[0m \u001b[0mpandas\u001b[0m \u001b[1;32mas\u001b[0m \u001b[0mpd\u001b[0m\u001b[1;33m\u001b[0m\u001b[1;33m\u001b[0m\u001b[0m\n\u001b[0;32m     12\u001b[0m \u001b[1;32mimport\u001b[0m \u001b[0mmatplotlib\u001b[0m \u001b[1;32mas\u001b[0m \u001b[0mmpl\u001b[0m\u001b[1;33m\u001b[0m\u001b[1;33m\u001b[0m\u001b[0m\n",
      "\u001b[1;32m~\\Anaconda3\\lib\\site-packages\\scipy\\__init__.py\u001b[0m in \u001b[0;36m<module>\u001b[1;34m\u001b[0m\n\u001b[0;32m    142\u001b[0m \u001b[1;33m\u001b[0m\u001b[0m\n\u001b[0;32m    143\u001b[0m     \u001b[1;31m# Allow distributors to run custom init code\u001b[0m\u001b[1;33m\u001b[0m\u001b[1;33m\u001b[0m\u001b[1;33m\u001b[0m\u001b[0m\n\u001b[1;32m--> 144\u001b[1;33m     \u001b[1;32mfrom\u001b[0m \u001b[1;33m.\u001b[0m \u001b[1;32mimport\u001b[0m \u001b[0m_distributor_init\u001b[0m\u001b[1;33m\u001b[0m\u001b[1;33m\u001b[0m\u001b[0m\n\u001b[0m\u001b[0;32m    145\u001b[0m     \u001b[1;32mdel\u001b[0m \u001b[0m_distributor_init\u001b[0m\u001b[1;33m\u001b[0m\u001b[1;33m\u001b[0m\u001b[0m\n\u001b[0;32m    146\u001b[0m \u001b[1;33m\u001b[0m\u001b[0m\n",
      "\u001b[1;32m~\\Anaconda3\\lib\\site-packages\\scipy\\_distributor_init.py\u001b[0m in \u001b[0;36m<module>\u001b[1;34m\u001b[0m\n\u001b[0;32m     57\u001b[0m             \u001b[0mos\u001b[0m\u001b[1;33m.\u001b[0m\u001b[0mchdir\u001b[0m\u001b[1;33m(\u001b[0m\u001b[0mlibs_path\u001b[0m\u001b[1;33m)\u001b[0m\u001b[1;33m\u001b[0m\u001b[1;33m\u001b[0m\u001b[0m\n\u001b[0;32m     58\u001b[0m             \u001b[1;32mfor\u001b[0m \u001b[0mfilename\u001b[0m \u001b[1;32min\u001b[0m \u001b[0mglob\u001b[0m\u001b[1;33m.\u001b[0m\u001b[0mglob\u001b[0m\u001b[1;33m(\u001b[0m\u001b[0mos\u001b[0m\u001b[1;33m.\u001b[0m\u001b[0mpath\u001b[0m\u001b[1;33m.\u001b[0m\u001b[0mjoin\u001b[0m\u001b[1;33m(\u001b[0m\u001b[0mlibs_path\u001b[0m\u001b[1;33m,\u001b[0m \u001b[1;34m'*dll'\u001b[0m\u001b[1;33m)\u001b[0m\u001b[1;33m)\u001b[0m\u001b[1;33m:\u001b[0m\u001b[1;33m\u001b[0m\u001b[1;33m\u001b[0m\u001b[0m\n\u001b[1;32m---> 59\u001b[1;33m                 \u001b[0mWinDLL\u001b[0m\u001b[1;33m(\u001b[0m\u001b[0mos\u001b[0m\u001b[1;33m.\u001b[0m\u001b[0mpath\u001b[0m\u001b[1;33m.\u001b[0m\u001b[0mabspath\u001b[0m\u001b[1;33m(\u001b[0m\u001b[0mfilename\u001b[0m\u001b[1;33m)\u001b[0m\u001b[1;33m)\u001b[0m\u001b[1;33m\u001b[0m\u001b[1;33m\u001b[0m\u001b[0m\n\u001b[0m\u001b[0;32m     60\u001b[0m         \u001b[1;32mfinally\u001b[0m\u001b[1;33m:\u001b[0m\u001b[1;33m\u001b[0m\u001b[1;33m\u001b[0m\u001b[0m\n\u001b[0;32m     61\u001b[0m             \u001b[0mos\u001b[0m\u001b[1;33m.\u001b[0m\u001b[0mchdir\u001b[0m\u001b[1;33m(\u001b[0m\u001b[0mowd\u001b[0m\u001b[1;33m)\u001b[0m\u001b[1;33m\u001b[0m\u001b[1;33m\u001b[0m\u001b[0m\n",
      "\u001b[1;32m~\\Anaconda3\\lib\\ctypes\\__init__.py\u001b[0m in \u001b[0;36m__init__\u001b[1;34m(self, name, mode, handle, use_errno, use_last_error, winmode)\u001b[0m\n\u001b[0;32m    371\u001b[0m \u001b[1;33m\u001b[0m\u001b[0m\n\u001b[0;32m    372\u001b[0m         \u001b[1;32mif\u001b[0m \u001b[0mhandle\u001b[0m \u001b[1;32mis\u001b[0m \u001b[1;32mNone\u001b[0m\u001b[1;33m:\u001b[0m\u001b[1;33m\u001b[0m\u001b[1;33m\u001b[0m\u001b[0m\n\u001b[1;32m--> 373\u001b[1;33m             \u001b[0mself\u001b[0m\u001b[1;33m.\u001b[0m\u001b[0m_handle\u001b[0m \u001b[1;33m=\u001b[0m \u001b[0m_dlopen\u001b[0m\u001b[1;33m(\u001b[0m\u001b[0mself\u001b[0m\u001b[1;33m.\u001b[0m\u001b[0m_name\u001b[0m\u001b[1;33m,\u001b[0m \u001b[0mmode\u001b[0m\u001b[1;33m)\u001b[0m\u001b[1;33m\u001b[0m\u001b[1;33m\u001b[0m\u001b[0m\n\u001b[0m\u001b[0;32m    374\u001b[0m         \u001b[1;32melse\u001b[0m\u001b[1;33m:\u001b[0m\u001b[1;33m\u001b[0m\u001b[1;33m\u001b[0m\u001b[0m\n\u001b[0;32m    375\u001b[0m             \u001b[0mself\u001b[0m\u001b[1;33m.\u001b[0m\u001b[0m_handle\u001b[0m \u001b[1;33m=\u001b[0m \u001b[0mhandle\u001b[0m\u001b[1;33m\u001b[0m\u001b[1;33m\u001b[0m\u001b[0m\n",
      "\u001b[1;31mFileNotFoundError\u001b[0m: Could not find module 'C:\\Users\\abdul\\Anaconda3\\lib\\site-packages\\scipy\\.libs\\libbanded5x.4LIW6FJ2MYAF374XJSSB2KHHIEBRW45R.gfortran-win_amd64.dll' (or one of its dependencies). Try using the full path with constructor syntax."
     ]
    }
   ],
   "source": [
    "from datetime import datetime, date\n",
    "from pprint import pprint\n",
    "from collections import OrderedDict\n",
    "import os\n",
    "\n",
    "import numpy as np\n",
    "import pandas as pd\n",
    "\n",
    "import matplotlib.pyplot as plt\n",
    "import seaborn as sns\n",
    "import plotly.express as px\n",
    "import plotly.graph_objects as go\n",
    "\n",
    "from prophet import Prophet\n",
    "\n",
    "# Set ipython's max row display\n",
    "# pd.set_option('display.max_row', 1000)\n",
    "# Set iPython's max column width\n",
    "pd.set_option('display.max_columns', 50)\n",
    "\n",
    "sns.set_style(\"darkgrid\")\n",
    "plt.rcParams['figure.figsize'] = [20, 10]\n",
    "\n",
    "import warnings\n",
    "warnings.filterwarnings('ignore')\n",
    "import logging\n",
    "logger = logging.getLogger('cmdstanpy')\n",
    "logger.addHandler(logging.NullHandler())\n",
    "logger.propagate = False\n",
    "logger.setLevel(logging.CRITICAL)"
   ]
  },
  {
   "cell_type": "markdown",
   "id": "c0af8e21-be22-45d7-9a7c-de9d6acb5d49",
   "metadata": {},
   "source": [
    "### Functions"
   ]
  },
  {
   "cell_type": "code",
   "execution_count": null,
   "id": "e90cef9e-9560-4d49-b8c0-054c29c1fd2a",
   "metadata": {},
   "outputs": [],
   "source": [
    "def masked_heatmap():\n",
    "    mask = np.zeros_like(corr)\n",
    "    mask[np.triu_indices_from(mask)] = True\n",
    "    fig,ax = plt.subplots()\n",
    "    sns.heatmap(corr,center = 0, fmt = \".3f\", square = True, annot= True, mask=mask)"
   ]
  },
  {
   "cell_type": "markdown",
   "id": "79a56286-2a11-44fa-8e29-585bceb45a37",
   "metadata": {
    "application/vnd.databricks.v1+cell": {
     "cellMetadata": {},
     "inputWidgets": {},
     "nuid": "e113a41e-3162-4a8e-93df-29453df9326a",
     "showTitle": false,
     "title": ""
    }
   },
   "source": [
    "## Global Variables"
   ]
  },
  {
   "cell_type": "markdown",
   "id": "70b1da82-6957-4049-aa88-0b9507e7a5d0",
   "metadata": {
    "application/vnd.databricks.v1+cell": {
     "cellMetadata": {},
     "inputWidgets": {},
     "nuid": "c65e3489-b431-4f1a-a33f-f0edda61c368",
     "showTitle": false,
     "title": ""
    }
   },
   "source": [
    "#### Dataset Parameters"
   ]
  },
  {
   "cell_type": "code",
   "execution_count": null,
   "id": "0a2abf00-de3c-44b4-a486-39e8de99c313",
   "metadata": {
    "application/vnd.databricks.v1+cell": {
     "cellMetadata": {},
     "inputWidgets": {},
     "nuid": "921f4f7a-31b6-4bc8-8faf-75a7e19de71f",
     "showTitle": false,
     "title": ""
    }
   },
   "outputs": [],
   "source": [
    "file_name = '../data/silver_tables/yearly_values_per_entity.csv'\n",
    "\n",
    "year_range = [1960, 2022]\n",
    "entity_category = 'Country'\n",
    "\n",
    "forecast_horizon = 30"
   ]
  },
  {
   "cell_type": "code",
   "execution_count": null,
   "id": "44566a84-9a58-4ae5-a26d-98fc841a5a10",
   "metadata": {},
   "outputs": [],
   "source": [
    "index_columns = [\n",
    "    'Entity',\n",
    "    'Code',\n",
    "    'Year',\n",
    "]\n",
    "forecase_columns = [\n",
    "    'Annual CO2 emissions',\n",
    "    #'Annual change in primary energy consumption (%)',\n",
    "    # 'Per capita electricity (kWh)',\n",
    "    'Fossil fuels per capita (kWh)',\n",
    "    # 'Fossil fuels (% equivalent primary energy)',\n",
    "    # 'Renewables per capita (kWh - equivalent)', 'Renewables (% electricity)',\n",
    "    # 'Solar Generation - TWh', 'prod of Electricity from solar (TWh)',\n",
    "]"
   ]
  },
  {
   "cell_type": "markdown",
   "id": "489ea90a-be10-43b8-86f5-cf39b28a5d29",
   "metadata": {
    "tags": []
   },
   "source": [
    "## Data Prep"
   ]
  },
  {
   "cell_type": "code",
   "execution_count": null,
   "id": "e9cfa174-f602-4b66-acb0-e84c09be065e",
   "metadata": {},
   "outputs": [],
   "source": [
    "df_original = pd.read_csv(file_name)"
   ]
  },
  {
   "cell_type": "code",
   "execution_count": null,
   "id": "6f7b2af3-aa1c-453b-9b38-37b8547bc206",
   "metadata": {},
   "outputs": [],
   "source": [
    "df_original = df_original.loc[\n",
    "    (df_original['Year'] > year_range[0])\n",
    "    & (df_original['Year'] < year_range[1])\n",
    "    & (df_original['Entity_Category'] == entity_category)\n",
    "][[*index_columns,*forecase_columns]]"
   ]
  },
  {
   "cell_type": "code",
   "execution_count": null,
   "id": "9b497fa5-d339-4a83-ad5e-97b2a56b59f9",
   "metadata": {},
   "outputs": [],
   "source": [
    "df_original.head(2)"
   ]
  },
  {
   "cell_type": "code",
   "execution_count": null,
   "id": "c8eaa985-2f11-4c6e-9d0e-1f1764a31aa6",
   "metadata": {},
   "outputs": [],
   "source": [
    "df_original['Year'] = pd.to_datetime(df_original['Year'], format='%Y')"
   ]
  },
  {
   "cell_type": "markdown",
   "id": "e6b3200e-41da-4769-a13f-24e2ae3e4771",
   "metadata": {},
   "source": [
    "### Create Per Country Dataframes"
   ]
  },
  {
   "cell_type": "code",
   "execution_count": null,
   "id": "05d24160-9f9c-4860-be58-4c62405467f3",
   "metadata": {},
   "outputs": [],
   "source": [
    "x = 'Year'\n",
    "y = 'Annual CO2 emissions'"
   ]
  },
  {
   "cell_type": "code",
   "execution_count": null,
   "id": "8de0ec5f-18dc-4f9d-a6c7-0cc86f3f247b",
   "metadata": {},
   "outputs": [],
   "source": [
    "entity_dfs_dict = {}\n",
    "\n",
    "for entity in df_original['Entity'].unique():\n",
    "    entity_dfs_dict[entity] = df_original.loc[df_original['Entity'] == entity][[x, y]]\n",
    "    entity_dfs_dict[entity].columns = ['ds', 'y']"
   ]
  },
  {
   "cell_type": "code",
   "execution_count": null,
   "id": "34599bf0-5a29-4ee2-808a-7a6f282df90b",
   "metadata": {},
   "outputs": [],
   "source": [
    "entity_dfs_dict[entity].head()"
   ]
  },
  {
   "cell_type": "markdown",
   "id": "2014d3ac-6b8b-44d7-893b-5e08f1387eed",
   "metadata": {},
   "source": [
    "## Forecast Generation "
   ]
  },
  {
   "cell_type": "code",
   "execution_count": null,
   "id": "5c8b36f9-e429-4dd4-a870-d48f08a12a1d",
   "metadata": {},
   "outputs": [],
   "source": [
    "def create_predict_df_for_entity(entity_name):\n",
    "    df = entity_dfs_dict[entity_name]\n",
    "    \n",
    "    m = Prophet(\n",
    "        yearly_seasonality='auto',\n",
    "        weekly_seasonality=False,\n",
    "        daily_seasonality=False,\n",
    "    )\n",
    "    m.fit(df)\n",
    "    \n",
    "    future = m.make_future_dataframe(periods=forecast_horizon, freq='Y')\n",
    "    forecast = m.predict(future)\n",
    "    \n",
    "    df = df.set_index('ds').join(forecast.set_index('ds')).reset_index()\n",
    "    df['Entity'] = entity_name\n",
    "    \n",
    "    return df"
   ]
  },
  {
   "cell_type": "code",
   "execution_count": null,
   "id": "14cd8ad2-3680-4c56-a71d-28daa440867f",
   "metadata": {},
   "outputs": [],
   "source": [
    "def create_pred_df(entity_dfs_dict):\n",
    "    all_pred_df = pd.DataFrame()\n",
    "\n",
    "    try:\n",
    "        for entity_name in entity_dfs_dict:\n",
    "            print(f\"Forecasting for {entity_name} done\")\n",
    "            \n",
    "            try:\n",
    "                df = create_predict_df_for_entity(entity_name)    \n",
    "            except ValueError:\n",
    "                print('Not enough observations for forecasting')\n",
    "                df = pd.DataFrame()\n",
    "\n",
    "            all_pred_df = pd.concat([all_pred_df, df])\n",
    "        return all_pred_df\n",
    "    \n",
    "    except KeyboardInterrupt:\n",
    "        return all_pred_df"
   ]
  },
  {
   "cell_type": "code",
   "execution_count": null,
   "id": "c36cd77c-6ae7-42f4-97c3-f8f61d9db82e",
   "metadata": {},
   "outputs": [],
   "source": [
    "all_entities_pred_df = create_pred_df(entity_dfs_dict)"
   ]
  },
  {
   "cell_type": "markdown",
   "id": "785ee354-10c4-45b8-81d4-0bca436f20fa",
   "metadata": {},
   "source": [
    "## Save Tables"
   ]
  },
  {
   "cell_type": "code",
   "execution_count": null,
   "id": "9256b96e-3511-4584-b717-023004f60be1",
   "metadata": {},
   "outputs": [],
   "source": [
    "all_entities_pred_df.head()"
   ]
  },
  {
   "cell_type": "code",
   "execution_count": null,
   "id": "1d3969ab-a688-4a40-a7a0-5aaabb9fc335",
   "metadata": {},
   "outputs": [],
   "source": [
    "all_entities_pred_df['Entity'].value_counts()"
   ]
  },
  {
   "cell_type": "code",
   "execution_count": null,
   "id": "2bcba0a9-4127-4c26-9dec-4743d4b97b0d",
   "metadata": {},
   "outputs": [],
   "source": [
    "all_entities_pred_df.to_csv('../data/forecasts_tables/all_entities_forecasts.csv', index=False)"
   ]
  }
 ],
 "metadata": {
  "kernelspec": {
   "display_name": "Python 3 (ipykernel)",
   "language": "python",
   "name": "python3"
  },
  "language_info": {
   "codemirror_mode": {
    "name": "ipython",
    "version": 3
   },
   "file_extension": ".py",
   "mimetype": "text/x-python",
   "name": "python",
   "nbconvert_exporter": "python",
   "pygments_lexer": "ipython3",
   "version": "3.8.12"
  },
  "scenes_data": {
   "active_scene": "Default Scene",
   "init_scene": "",
   "scenes": [
    "Default Scene"
   ]
  },
  "vscode": {
   "interpreter": {
    "hash": "b59a5bc95ea837884ac6b30ff4c4e35df4c324dcfae3c61025a9a02fd547c221"
   }
  }
 },
 "nbformat": 4,
 "nbformat_minor": 5
}
